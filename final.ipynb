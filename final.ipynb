{
 "cells": [
  {
   "cell_type": "markdown",
   "metadata": {
    "collapsed": false
   },
   "source": [
    "# ĐỒ ÁN CUỐI KỲ LẬP TRÌNH PYTHON CHO KHOA HỌC DỮ LIỆU"
   ]
  },
  {
   "cell_type": "markdown",
   "metadata": {
    "collapsed": false
   },
   "source": [
    "## Thông tin đồ án\n",
    "\n",
    "+ Chủ đề: **Tìm hiểu về giá thuê chung cư ở thành phố Hồ Chí Minh**\n",
    "+ Github: [p4ds-final](https://github.com/vanhung4499/p4ds)\n",
    "\n",
    "### Thông tin nhóm\n",
    "\n",
    "Nhóm bao gồm các thanh vien:\n",
    "\n",
    "| MSSV    | Họ và tên       |\n",
    "|---------|-----------------|\n",
    "| 1712222 | Nguyễn Văn Hùng |\n",
    "| 20120401| Nguyễn Đức Việt |"
   ]
  },
  {
   "cell_type": "markdown",
   "metadata": {
    "collapsed": false
   },
   "source": [
    "## Môi trường làm việc"
   ]
  },
  {
   "cell_type": "code",
   "execution_count": 1,
   "metadata": {
    "ExecuteTime": {
     "end_time": "2023-12-10T16:21:29.483647Z",
     "start_time": "2023-12-10T16:21:29.481461Z"
    },
    "collapsed": false
   },
   "outputs": [
    {
     "data": {
      "text/plain": [
       "'/Users/viet/miniconda3/envs/min_ds-env/bin/python'"
      ]
     },
     "execution_count": 1,
     "metadata": {},
     "output_type": "execute_result"
    }
   ],
   "source": [
    "import sys\n",
    "sys.executable"
   ]
  },
  {
   "cell_type": "markdown",
   "metadata": {
    "collapsed": false
   },
   "source": [
    "Môi trường làm việc mà em dùng:\n",
    "+ OS: macOS\n",
    "+ IDE: VSCode\n",
    "+ Sử dụng mội trường `min_ds-env` như các bài lab"
   ]
  },
  {
   "cell_type": "markdown",
   "metadata": {
    "collapsed": false
   },
   "source": [
    "## Import and constant"
   ]
  },
  {
   "cell_type": "code",
   "execution_count": 2,
   "metadata": {
    "ExecuteTime": {
     "end_time": "2023-12-10T16:21:29.487904Z",
     "start_time": "2023-12-10T16:21:29.485091Z"
    },
    "collapsed": false
   },
   "outputs": [],
   "source": [
    "import numpy as np\n",
    "import pandas as pd\n",
    "from matplotlib import pyplot as plt\n",
    "import seaborn as sns"
   ]
  },
  {
   "cell_type": "code",
   "execution_count": 3,
   "metadata": {
    "ExecuteTime": {
     "end_time": "2023-12-10T16:21:29.494016Z",
     "start_time": "2023-12-10T16:21:29.489754Z"
    },
    "collapsed": false
   },
   "outputs": [],
   "source": [
    "DATA_CSV = './data/hcm-apartment-rent-data.csv'\n",
    "plt.style.use(\"fivethirtyeight\")"
   ]
  },
  {
   "cell_type": "markdown",
   "metadata": {
    "collapsed": false
   },
   "source": [
    "## 1. Thu thập dữ liệu"
   ]
  },
  {
   "cell_type": "markdown",
   "metadata": {
    "collapsed": false
   },
   "source": [
    "### 1.1. Chủ đề, mục đích và nguồn của dữ liệu?"
   ]
  },
  {
   "cell_type": "markdown",
   "metadata": {
    "collapsed": false
   },
   "source": [
    "+ Chủ đề em nhắm tới là về giá thuê chung cư ở thành phố Hồ Chí Minh.\n",
    "+ Do tìm trên kaggle chỉ có duy nhất một bộ dữ liệu về giá thuê chung cư của thành phố Hồ Chí Minh nhưng đã cũ và em cảm thấy nó ít không đủ các cột nên em đã tự crawl dữ liệu từ [nhatot.vn](https://www.nhatot.com/thue-can-ho-chung-cu-tp-ho-chi-minh), trang môi giới xếp top đầu trong lĩnh vực bất động sản ở Việt Nam trên [Google](https://www.google.com/search?q=thu%C3%AA+chung+c%C6%B0+h%E1%BB%93+ch%C3%AD+minh&oq=thu%C3%AA+chung+c%C6%B0&aqs=chrome.1.69i59l3j0i512l2j69i60l3.4604j0j7&sourceid=chrome&ie=UTF-8).\n",
    "+ Mục đích của em khá đơn giản là để xem xét giá cả chung cư cho thuê ở TPHCM, vì trong thời gian tới em cũng sẽ tìm chỗ ở mới (làm trước sau dùng lại)."
   ]
  },
  {
   "cell_type": "markdown",
   "metadata": {
    "collapsed": false
   },
   "source": [
    "### 1.2. Người ta có cho phép sử dụng dữ liệu như thế này hay không?"
   ]
  },
  {
   "cell_type": "markdown",
   "metadata": {
    "collapsed": false
   },
   "source": [
    "+ Việc crawl dữ liệu từ Nhatot thông qua public API của Chotot, nên có thể xem là là được phép sử dụng dữ liệu!\n",
    "+ Đối với project này nhằm mục đích nâng cao kiến thức, không phục vụ mục đích thương mại"
   ]
  },
  {
   "cell_type": "markdown",
   "metadata": {
    "collapsed": false
   },
   "source": [
    "### 1.3. Thu thập dữ liệu này như thế nào?"
   ]
  },
  {
   "cell_type": "markdown",
   "metadata": {
    "collapsed": false
   },
   "source": [
    "+ Dữ liệu được crawl từ [nhatot.vn](https://www.nhatot.com/thue-can-ho-chung-cu-tp-ho-chi-minh), là trang môi giới về bất động sản lớn ở Việt Nam, web có rất nhiều tin cho thuê nhà.\n",
    "+ Crawl toàn bộ 1000 trang thu về gần 20000 record.\n",
    "+ Chi tiết về cách crawl được mô tả ở file notebook `crawl-data.ipynb`."
   ]
  },
  {
   "cell_type": "markdown",
   "metadata": {
    "collapsed": false
   },
   "source": [
    "## 2. Khám phá dữ liệu"
   ]
  },
  {
   "cell_type": "markdown",
   "metadata": {
    "collapsed": false
   },
   "source": [
    "### 2.1. Đọc dữ liệu"
   ]
  },
  {
   "cell_type": "code",
   "execution_count": 4,
   "metadata": {
    "ExecuteTime": {
     "end_time": "2023-12-10T16:21:29.838793Z",
     "start_time": "2023-12-10T16:21:29.493282Z"
    },
    "collapsed": false
   },
   "outputs": [
    {
     "data": {
      "text/html": [
       "<div>\n",
       "<style scoped>\n",
       "    .dataframe tbody tr th:only-of-type {\n",
       "        vertical-align: middle;\n",
       "    }\n",
       "\n",
       "    .dataframe tbody tr th {\n",
       "        vertical-align: top;\n",
       "    }\n",
       "\n",
       "    .dataframe thead th {\n",
       "        text-align: right;\n",
       "    }\n",
       "</style>\n",
       "<table border=\"1\" class=\"dataframe\">\n",
       "  <thead>\n",
       "    <tr style=\"text-align: right;\">\n",
       "      <th></th>\n",
       "      <th>ad_id</th>\n",
       "      <th>list_id</th>\n",
       "      <th>list_time</th>\n",
       "      <th>subject</th>\n",
       "      <th>body</th>\n",
       "      <th>price</th>\n",
       "      <th>price_string</th>\n",
       "      <th>size</th>\n",
       "      <th>rooms</th>\n",
       "      <th>toilets</th>\n",
       "      <th>...</th>\n",
       "      <th>region_name</th>\n",
       "      <th>ward_name</th>\n",
       "      <th>street_name</th>\n",
       "      <th>deposit</th>\n",
       "      <th>zero_deposit</th>\n",
       "      <th>longitude</th>\n",
       "      <th>latitude</th>\n",
       "      <th>owner</th>\n",
       "      <th>company_ad</th>\n",
       "      <th>apartment_type</th>\n",
       "    </tr>\n",
       "  </thead>\n",
       "  <tbody>\n",
       "    <tr>\n",
       "      <th>0</th>\n",
       "      <td>153418031</td>\n",
       "      <td>112852992</td>\n",
       "      <td>1703585725000</td>\n",
       "      <td>🏡DUPLEX MỚI FULL NT GIÁP HÀ HUY GIÁP, GẦN TRƯỜ...</td>\n",
       "      <td>DUPLEX MỚI FULL NỘI THẤT GIÁP HÀ HUY GIÁP, GẦN...</td>\n",
       "      <td>3500000.0</td>\n",
       "      <td>3,5 triệu/tháng</td>\n",
       "      <td>28.0</td>\n",
       "      <td>1</td>\n",
       "      <td>1.0</td>\n",
       "      <td>...</td>\n",
       "      <td>Tp Hồ Chí Minh</td>\n",
       "      <td>Phường Thạnh Lộc</td>\n",
       "      <td>Đường Thạnh Lộc 18, Phường Thạnh Lộc, Quận 12,...</td>\n",
       "      <td>0</td>\n",
       "      <td>False</td>\n",
       "      <td>106.68240</td>\n",
       "      <td>10.866300</td>\n",
       "      <td>False</td>\n",
       "      <td>True</td>\n",
       "      <td>Duplex</td>\n",
       "    </tr>\n",
       "    <tr>\n",
       "      <th>1</th>\n",
       "      <td>148983771</td>\n",
       "      <td>109051906</td>\n",
       "      <td>1703234722000</td>\n",
       "      <td>1 PHÒNG NGỦ TÁCH BẾP 45M2, CHO NUÔI PET!</td>\n",
       "      <td>CĂN HỘ CAO CẤP 1 PHÒNG NGỦ!__45M2\\n✓BAN CÔNG L...</td>\n",
       "      <td>8600000.0</td>\n",
       "      <td>8,6 triệu/tháng</td>\n",
       "      <td>45.0</td>\n",
       "      <td>1</td>\n",
       "      <td>1.0</td>\n",
       "      <td>...</td>\n",
       "      <td>Tp Hồ Chí Minh</td>\n",
       "      <td>Phường Thảo Điền (Quận 2 cũ)</td>\n",
       "      <td>Nguyễn Văn Hưởng</td>\n",
       "      <td>8600000</td>\n",
       "      <td>False</td>\n",
       "      <td>106.72764</td>\n",
       "      <td>10.815886</td>\n",
       "      <td>False</td>\n",
       "      <td>True</td>\n",
       "      <td>Căn hộ dịch vụ, mini</td>\n",
       "    </tr>\n",
       "    <tr>\n",
       "      <th>2</th>\n",
       "      <td>153418053</td>\n",
       "      <td>112853008</td>\n",
       "      <td>1703585761000</td>\n",
       "      <td>Cho thuê 1-2-3PN Kingdom 101,Quận 10,Nhà mới,7...</td>\n",
       "      <td>🌆 Kingdom101 334 Tô Hiến Thành Q10🌇\\nCập Nhật ...</td>\n",
       "      <td>16500000.0</td>\n",
       "      <td>16,5 triệu/tháng</td>\n",
       "      <td>78.0</td>\n",
       "      <td>2</td>\n",
       "      <td>2.0</td>\n",
       "      <td>...</td>\n",
       "      <td>Tp Hồ Chí Minh</td>\n",
       "      <td>Phường 14</td>\n",
       "      <td>Tô Hiến Thành</td>\n",
       "      <td>0</td>\n",
       "      <td>False</td>\n",
       "      <td>106.66210</td>\n",
       "      <td>10.774700</td>\n",
       "      <td>False</td>\n",
       "      <td>True</td>\n",
       "      <td>Chung cư</td>\n",
       "    </tr>\n",
       "    <tr>\n",
       "      <th>3</th>\n",
       "      <td>153418055</td>\n",
       "      <td>112853009</td>\n",
       "      <td>1703585764000</td>\n",
       "      <td>Căn hộ giá rẻ ở liền quận 11 từ 8.5tr /2PN trố...</td>\n",
       "      <td>Cần cho thuê một số căn hộ chung cư giá rẻ ở l...</td>\n",
       "      <td>8500000.0</td>\n",
       "      <td>8,5 triệu/tháng</td>\n",
       "      <td>68.0</td>\n",
       "      <td>2</td>\n",
       "      <td>2.0</td>\n",
       "      <td>...</td>\n",
       "      <td>Tp Hồ Chí Minh</td>\n",
       "      <td>Phường 5</td>\n",
       "      <td>Lạc Long Quân</td>\n",
       "      <td>1</td>\n",
       "      <td>False</td>\n",
       "      <td>106.64740</td>\n",
       "      <td>10.774000</td>\n",
       "      <td>False</td>\n",
       "      <td>True</td>\n",
       "      <td>Chung cư</td>\n",
       "    </tr>\n",
       "    <tr>\n",
       "      <th>4</th>\n",
       "      <td>153571175</td>\n",
       "      <td>112984090</td>\n",
       "      <td>1704079903000</td>\n",
       "      <td>Cho thuê căn hộ Hausneo q9, 2pn,2wc,9tr</td>\n",
       "      <td>Cho thuê căn hộ HAUSNEO 2pn,2wc\\n👉Giá: 9 triệu...</td>\n",
       "      <td>9000000.0</td>\n",
       "      <td>9 triệu/tháng</td>\n",
       "      <td>78.0</td>\n",
       "      <td>2</td>\n",
       "      <td>2.0</td>\n",
       "      <td>...</td>\n",
       "      <td>Tp Hồ Chí Minh</td>\n",
       "      <td>Phường Phú Hữu (Quận 9 cũ)</td>\n",
       "      <td>Đường số 11</td>\n",
       "      <td>0</td>\n",
       "      <td>False</td>\n",
       "      <td>106.78910</td>\n",
       "      <td>10.800800</td>\n",
       "      <td>False</td>\n",
       "      <td>True</td>\n",
       "      <td>Chung cư</td>\n",
       "    </tr>\n",
       "  </tbody>\n",
       "</table>\n",
       "<p>5 rows × 21 columns</p>\n",
       "</div>"
      ],
      "text/plain": [
       "       ad_id    list_id      list_time  \\\n",
       "0  153418031  112852992  1703585725000   \n",
       "1  148983771  109051906  1703234722000   \n",
       "2  153418053  112853008  1703585761000   \n",
       "3  153418055  112853009  1703585764000   \n",
       "4  153571175  112984090  1704079903000   \n",
       "\n",
       "                                             subject  \\\n",
       "0  🏡DUPLEX MỚI FULL NT GIÁP HÀ HUY GIÁP, GẦN TRƯỜ...   \n",
       "1           1 PHÒNG NGỦ TÁCH BẾP 45M2, CHO NUÔI PET!   \n",
       "2  Cho thuê 1-2-3PN Kingdom 101,Quận 10,Nhà mới,7...   \n",
       "3  Căn hộ giá rẻ ở liền quận 11 từ 8.5tr /2PN trố...   \n",
       "4            Cho thuê căn hộ Hausneo q9, 2pn,2wc,9tr   \n",
       "\n",
       "                                                body       price  \\\n",
       "0  DUPLEX MỚI FULL NỘI THẤT GIÁP HÀ HUY GIÁP, GẦN...   3500000.0   \n",
       "1  CĂN HỘ CAO CẤP 1 PHÒNG NGỦ!__45M2\\n✓BAN CÔNG L...   8600000.0   \n",
       "2  🌆 Kingdom101 334 Tô Hiến Thành Q10🌇\\nCập Nhật ...  16500000.0   \n",
       "3  Cần cho thuê một số căn hộ chung cư giá rẻ ở l...   8500000.0   \n",
       "4  Cho thuê căn hộ HAUSNEO 2pn,2wc\\n👉Giá: 9 triệu...   9000000.0   \n",
       "\n",
       "       price_string  size  rooms  toilets  ...     region_name  \\\n",
       "0   3,5 triệu/tháng  28.0      1      1.0  ...  Tp Hồ Chí Minh   \n",
       "1   8,6 triệu/tháng  45.0      1      1.0  ...  Tp Hồ Chí Minh   \n",
       "2  16,5 triệu/tháng  78.0      2      2.0  ...  Tp Hồ Chí Minh   \n",
       "3   8,5 triệu/tháng  68.0      2      2.0  ...  Tp Hồ Chí Minh   \n",
       "4     9 triệu/tháng  78.0      2      2.0  ...  Tp Hồ Chí Minh   \n",
       "\n",
       "                      ward_name  \\\n",
       "0              Phường Thạnh Lộc   \n",
       "1  Phường Thảo Điền (Quận 2 cũ)   \n",
       "2                     Phường 14   \n",
       "3                      Phường 5   \n",
       "4    Phường Phú Hữu (Quận 9 cũ)   \n",
       "\n",
       "                                         street_name  deposit  zero_deposit  \\\n",
       "0  Đường Thạnh Lộc 18, Phường Thạnh Lộc, Quận 12,...        0         False   \n",
       "1                                   Nguyễn Văn Hưởng  8600000         False   \n",
       "2                                      Tô Hiến Thành        0         False   \n",
       "3                                      Lạc Long Quân        1         False   \n",
       "4                                        Đường số 11        0         False   \n",
       "\n",
       "   longitude   latitude  owner  company_ad        apartment_type  \n",
       "0  106.68240  10.866300  False        True                Duplex  \n",
       "1  106.72764  10.815886  False        True  Căn hộ dịch vụ, mini  \n",
       "2  106.66210  10.774700  False        True              Chung cư  \n",
       "3  106.64740  10.774000  False        True              Chung cư  \n",
       "4  106.78910  10.800800  False        True              Chung cư  \n",
       "\n",
       "[5 rows x 21 columns]"
      ]
     },
     "execution_count": 4,
     "metadata": {},
     "output_type": "execute_result"
    }
   ],
   "source": [
    "apartment_df = pd.read_csv(DATA_CSV)\n",
    "apartment_df.head()"
   ]
  },
  {
   "cell_type": "markdown",
   "metadata": {
    "collapsed": false
   },
   "source": [
    "### 2.2. Dữ liệu có bao nhiêu dòng và bao nhiêu cột?"
   ]
  },
  {
   "cell_type": "code",
   "execution_count": 5,
   "metadata": {
    "ExecuteTime": {
     "end_time": "2023-12-10T16:21:29.844371Z",
     "start_time": "2023-12-10T16:21:29.839385Z"
    },
    "collapsed": false
   },
   "outputs": [
    {
     "data": {
      "text/plain": [
       "(19887, 21)"
      ]
     },
     "execution_count": 5,
     "metadata": {},
     "output_type": "execute_result"
    }
   ],
   "source": [
    "apartment_df.shape"
   ]
  },
  {
   "cell_type": "markdown",
   "metadata": {
    "collapsed": false
   },
   "source": [
    "Dữ liệu gồm 19996 dòng và 21 cột, đúng như những gì đã thu thập trước đó"
   ]
  },
  {
   "cell_type": "markdown",
   "metadata": {
    "collapsed": false
   },
   "source": [
    "### 2.3. Mỗi dòng có ý nghĩa gì? Có vấn đề các dòng có ý nghĩa khác nhau không?\n",
    "\n",
    "+ Mỗi dòng là thông tin cho thuê của một căn hộ như giá thuê, diện tích, số phòng, số nhà vệ sinh, địa chỉ,...\n",
    "+ Dựa theo thông tin trên web lúc crawl thì sẽ không có các dòng có ý nghĩa khác nhau."
   ]
  },
  {
   "cell_type": "markdown",
   "metadata": {
    "collapsed": false
   },
   "source": [
    "### 2.4. Mỗi cột có ý nghĩa gì?"
   ]
  },
  {
   "cell_type": "markdown",
   "metadata": {
    "collapsed": false
   },
   "source": [
    "Dưới đây là phần mô tả về các cột:\n",
    "\n",
    "| Column         | Description                                |\n",
    "|----------------|--------------------------------------------|\n",
    "| ad_id          | id của tin (để phân biệt)                  |\n",
    "| list_id        | id trong danh sách ads (dùng để phân biệt) |\n",
    "| list_time      | Thời gian đăng tin                         |\n",
    "| price          | Giá thuê (VND)                             |\n",
    "| price_string   | Giá thuê (triệu / tháng)                   |\n",
    "| size           | Diện tích (m2)                             |\n",
    "| rooms          | Số phòng                                   |\n",
    "| toilets        | Số nhà vệ sinh                             |\n",
    "| body           | Mô tả                                      |\n",
    "| street_name    | Đường                                      |\n",
    "| ward_name      | Phường                                     |\n",
    "| area_name      | Quận huyện                                 |\n",
    "| region_name    | Thành phố, tỉnh                            |\n",
    "| zero_deposit   | Có cần tiền cọc không?                     |\n",
    "| deposit        | Tiền cọc                                   |\n",
    "| longitude      | Kinh độ                                    |\n",
    "| latitude       | Vĩ độ                                      |\n",
    "| owner          | Có phải chủ nhà không?                     |\n",
    "| company_ad     | Tin của các nhân hay công ty               |\n",
    "| apartment_type | Kiểu căn hộ / chung cư                     |"
   ]
  },
  {
   "cell_type": "markdown",
   "metadata": {
    "collapsed": false
   },
   "source": [
    "### 2.4. Kiểm tra dữ liệu có bị trùng lặp không?"
   ]
  },
  {
   "cell_type": "code",
   "execution_count": 6,
   "metadata": {
    "ExecuteTime": {
     "end_time": "2023-12-10T16:21:29.939765Z",
     "start_time": "2023-12-10T16:21:29.842002Z"
    },
    "collapsed": false
   },
   "outputs": [
    {
     "data": {
      "text/plain": [
       "0"
      ]
     },
     "execution_count": 6,
     "metadata": {},
     "output_type": "execute_result"
    }
   ],
   "source": [
    "apartment_df.duplicated().sum()"
   ]
  },
  {
   "cell_type": "markdown",
   "metadata": {
    "collapsed": false
   },
   "source": [
    "Dữ liệu thu thập được không bị trùng lặp, dựa vào việc crawl trước đó nên có thể yên tâm"
   ]
  },
  {
   "cell_type": "markdown",
   "metadata": {
    "collapsed": false
   },
   "source": [
    "### 2.5. Mỗi cột hiện đang có kiểu dữ liệu gì? Có cột nào có kiểu dữ liệu chưa phù hợp để có thể xử lý tiếp không?"
   ]
  },
  {
   "cell_type": "code",
   "execution_count": 7,
   "metadata": {
    "ExecuteTime": {
     "end_time": "2023-12-10T16:21:29.964435Z",
     "start_time": "2023-12-10T16:21:29.928985Z"
    },
    "collapsed": false
   },
   "outputs": [
    {
     "name": "stdout",
     "output_type": "stream",
     "text": [
      "<class 'pandas.core.frame.DataFrame'>\n",
      "RangeIndex: 19887 entries, 0 to 19886\n",
      "Data columns (total 21 columns):\n",
      " #   Column          Non-Null Count  Dtype  \n",
      "---  ------          --------------  -----  \n",
      " 0   ad_id           19887 non-null  int64  \n",
      " 1   list_id         19887 non-null  int64  \n",
      " 2   list_time       19887 non-null  int64  \n",
      " 3   subject         19887 non-null  object \n",
      " 4   body            19887 non-null  object \n",
      " 5   price           19884 non-null  float64\n",
      " 6   price_string    19884 non-null  object \n",
      " 7   size            19887 non-null  float64\n",
      " 8   rooms           19887 non-null  int64  \n",
      " 9   toilets         19886 non-null  float64\n",
      " 10  area_name       19887 non-null  object \n",
      " 11  region_name     19887 non-null  object \n",
      " 12  ward_name       19876 non-null  object \n",
      " 13  street_name     19875 non-null  object \n",
      " 14  deposit         19887 non-null  int64  \n",
      " 15  zero_deposit    19887 non-null  bool   \n",
      " 16  longitude       19883 non-null  float64\n",
      " 17  latitude        19883 non-null  float64\n",
      " 18  owner           19887 non-null  bool   \n",
      " 19  company_ad      19887 non-null  bool   \n",
      " 20  apartment_type  19887 non-null  object \n",
      "dtypes: bool(3), float64(5), int64(5), object(8)\n",
      "memory usage: 2.8+ MB\n"
     ]
    }
   ],
   "source": [
    "apartment_df.info()"
   ]
  },
  {
   "cell_type": "markdown",
   "metadata": {
    "collapsed": false
   },
   "source": [
    "Nhận thấy một số vấn đè như sau:\n",
    "+ Cột `toilets`, `price` là số nhà vệ sinh nên có kiểu dữ liệu `int64`\n",
    "+ Cột `list_time` là thời gian đăng tin nên có kiểu `datetime`\n",
    "+ Cột `ad_id`, `list_id`, `company_ad`, sẽ không còn cần thiết\n",
    "+ Cột `size`, `price`, `toilets`, `area_name` có bị thiếu nên ta sẽ loại bỏ những dòng thiếu này"
   ]
  },
  {
   "cell_type": "code",
   "execution_count": 8,
   "metadata": {
    "ExecuteTime": {
     "end_time": "2023-12-10T16:21:29.965661Z",
     "start_time": "2023-12-10T16:21:29.955960Z"
    },
    "collapsed": false
   },
   "outputs": [],
   "source": [
    "# convert timestamp in milisecond to datetime\n",
    "apartment_df['list_time'] = pd.to_datetime(apartment_df['list_time'], unit='ms')"
   ]
  },
  {
   "cell_type": "code",
   "execution_count": 9,
   "metadata": {
    "ExecuteTime": {
     "end_time": "2023-12-10T16:21:30.001186Z",
     "start_time": "2023-12-10T16:21:29.962791Z"
    },
    "collapsed": false
   },
   "outputs": [
    {
     "data": {
      "text/plain": [
       "(19862, 18)"
      ]
     },
     "execution_count": 9,
     "metadata": {},
     "output_type": "execute_result"
    }
   ],
   "source": [
    "# drop missing value\n",
    "apartment_df = apartment_df.dropna()\n",
    "# drop not used column\n",
    "apartment_df = apartment_df.drop(['ad_id', 'list_id', 'company_ad'], axis=1)\n",
    "apartment_df.shape"
   ]
  },
  {
   "cell_type": "markdown",
   "metadata": {
    "collapsed": false
   },
   "source": [
    "Còn lại 19862 dòng"
   ]
  },
  {
   "cell_type": "code",
   "execution_count": 10,
   "metadata": {
    "ExecuteTime": {
     "end_time": "2023-12-10T16:21:30.053662Z",
     "start_time": "2023-12-10T16:21:30.018891Z"
    },
    "collapsed": false
   },
   "outputs": [],
   "source": [
    "# convert float64 to int64\n",
    "apartment_df['toilets'] = apartment_df['toilets'].apply(np.int64)\n",
    "apartment_df['price'] = apartment_df['price'].apply(np.int64)"
   ]
  },
  {
   "cell_type": "code",
   "execution_count": 11,
   "metadata": {
    "ExecuteTime": {
     "end_time": "2023-12-10T16:21:30.079324Z",
     "start_time": "2023-12-10T16:21:30.067841Z"
    },
    "collapsed": false
   },
   "outputs": [
    {
     "name": "stdout",
     "output_type": "stream",
     "text": [
      "<class 'pandas.core.frame.DataFrame'>\n",
      "Index: 19862 entries, 0 to 19886\n",
      "Data columns (total 18 columns):\n",
      " #   Column          Non-Null Count  Dtype         \n",
      "---  ------          --------------  -----         \n",
      " 0   list_time       19862 non-null  datetime64[ns]\n",
      " 1   subject         19862 non-null  object        \n",
      " 2   body            19862 non-null  object        \n",
      " 3   price           19862 non-null  int64         \n",
      " 4   price_string    19862 non-null  object        \n",
      " 5   size            19862 non-null  float64       \n",
      " 6   rooms           19862 non-null  int64         \n",
      " 7   toilets         19862 non-null  int64         \n",
      " 8   area_name       19862 non-null  object        \n",
      " 9   region_name     19862 non-null  object        \n",
      " 10  ward_name       19862 non-null  object        \n",
      " 11  street_name     19862 non-null  object        \n",
      " 12  deposit         19862 non-null  int64         \n",
      " 13  zero_deposit    19862 non-null  bool          \n",
      " 14  longitude       19862 non-null  float64       \n",
      " 15  latitude        19862 non-null  float64       \n",
      " 16  owner           19862 non-null  bool          \n",
      " 17  apartment_type  19862 non-null  object        \n",
      "dtypes: bool(2), datetime64[ns](1), float64(3), int64(4), object(8)\n",
      "memory usage: 2.6+ MB\n"
     ]
    }
   ],
   "source": [
    "apartment_df.info()"
   ]
  },
  {
   "cell_type": "markdown",
   "metadata": {
    "collapsed": false
   },
   "source": [
    "Sau khi xử lý, dữ liệu đã khá ổn"
   ]
  },
  {
   "cell_type": "markdown",
   "metadata": {
    "collapsed": false
   },
   "source": [
    "### 2.6. Với mỗi cột có kiểu dữ liệu numeric, các giá trị được phân bố như thế nào?"
   ]
  },
  {
   "cell_type": "code",
   "execution_count": 12,
   "metadata": {
    "ExecuteTime": {
     "end_time": "2023-12-10T16:21:30.101228Z",
     "start_time": "2023-12-10T16:21:30.079758Z"
    },
    "collapsed": false
   },
   "outputs": [
    {
     "data": {
      "text/html": [
       "<div>\n",
       "<style scoped>\n",
       "    .dataframe tbody tr th:only-of-type {\n",
       "        vertical-align: middle;\n",
       "    }\n",
       "\n",
       "    .dataframe tbody tr th {\n",
       "        vertical-align: top;\n",
       "    }\n",
       "\n",
       "    .dataframe thead th {\n",
       "        text-align: right;\n",
       "    }\n",
       "</style>\n",
       "<table border=\"1\" class=\"dataframe\">\n",
       "  <thead>\n",
       "    <tr style=\"text-align: right;\">\n",
       "      <th></th>\n",
       "      <th>price</th>\n",
       "      <th>size</th>\n",
       "      <th>rooms</th>\n",
       "      <th>toilets</th>\n",
       "      <th>deposit</th>\n",
       "    </tr>\n",
       "  </thead>\n",
       "  <tbody>\n",
       "    <tr>\n",
       "      <th>count</th>\n",
       "      <td>19,862</td>\n",
       "      <td>19,862</td>\n",
       "      <td>19,862</td>\n",
       "      <td>19,862</td>\n",
       "      <td>19,862</td>\n",
       "    </tr>\n",
       "    <tr>\n",
       "      <th>mean</th>\n",
       "      <td>16,388,876</td>\n",
       "      <td>60</td>\n",
       "      <td>2</td>\n",
       "      <td>1</td>\n",
       "      <td>5,079,027</td>\n",
       "    </tr>\n",
       "    <tr>\n",
       "      <th>std</th>\n",
       "      <td>329,925,170</td>\n",
       "      <td>606</td>\n",
       "      <td>1</td>\n",
       "      <td>1</td>\n",
       "      <td>10,839,077</td>\n",
       "    </tr>\n",
       "    <tr>\n",
       "      <th>min</th>\n",
       "      <td>500,000</td>\n",
       "      <td>3</td>\n",
       "      <td>1</td>\n",
       "      <td>1</td>\n",
       "      <td>0</td>\n",
       "    </tr>\n",
       "    <tr>\n",
       "      <th>25%</th>\n",
       "      <td>5,500,000</td>\n",
       "      <td>35</td>\n",
       "      <td>1</td>\n",
       "      <td>1</td>\n",
       "      <td>0</td>\n",
       "    </tr>\n",
       "    <tr>\n",
       "      <th>50%</th>\n",
       "      <td>7,500,000</td>\n",
       "      <td>50</td>\n",
       "      <td>1</td>\n",
       "      <td>1</td>\n",
       "      <td>0</td>\n",
       "    </tr>\n",
       "    <tr>\n",
       "      <th>75%</th>\n",
       "      <td>11,500,000</td>\n",
       "      <td>70</td>\n",
       "      <td>2</td>\n",
       "      <td>2</td>\n",
       "      <td>6,000,000</td>\n",
       "    </tr>\n",
       "    <tr>\n",
       "      <th>max</th>\n",
       "      <td>31,000,000,000</td>\n",
       "      <td>80,000</td>\n",
       "      <td>11</td>\n",
       "      <td>7</td>\n",
       "      <td>340,000,000</td>\n",
       "    </tr>\n",
       "  </tbody>\n",
       "</table>\n",
       "</div>"
      ],
      "text/plain": [
       "               price   size  rooms  toilets     deposit\n",
       "count         19,862 19,862 19,862   19,862      19,862\n",
       "mean      16,388,876     60      2        1   5,079,027\n",
       "std      329,925,170    606      1        1  10,839,077\n",
       "min          500,000      3      1        1           0\n",
       "25%        5,500,000     35      1        1           0\n",
       "50%        7,500,000     50      1        1           0\n",
       "75%       11,500,000     70      2        2   6,000,000\n",
       "max   31,000,000,000 80,000     11        7 340,000,000"
      ]
     },
     "execution_count": 12,
     "metadata": {},
     "output_type": "execute_result"
    }
   ],
   "source": [
    "pd.set_option('display.float_format',  '{:,.0f}'.format)\n",
    "\n",
    "numeric_cols = ['price', 'size', 'rooms', 'toilets', 'deposit']\n",
    "apartment_df[numeric_cols].describe()"
   ]
  },
  {
   "cell_type": "markdown",
   "metadata": {
    "collapsed": false
   },
   "source": [
    "Nhận ra ngay **min** và **max** của `price`, `size`, `deposit` có vấn đề:\n",
    " + Sự xuất hiện của các giá trị **min** và **max** không thực tế trong các thuộc tính `price`, `size`, và `deposit`. \n",
    " + Làm gì có căn hộ nào mà thuê 500,000 VND/tháng, diện tích có 3 m², dự đoán là tin rác, hoặc người dùng nhập sai.\n",
    " + Làm gì có ai thuê căn hộ nào thuê mà 80000 m², giá thuê 31 tỷ/tháng, cọc 340 triệu, dự đoán bán là đất nền nhưng đăng nhầm qua cho thuê chung cư.\n",
    "\n",
    "Các cột còn lại phân bố bình thường:\n",
    " + rooms từ 1 &rarr; 11.\n",
    " + toilets từ 1 &rarr; 7.\n",
    " \n",
    "Với mục tiêu nghiên cứu về giá chung cư, việc loại bỏ các giá trị ngoại lệ là cần thiết để đảm bảo tính chính xác và hợp lý của dữ liệu. Dưới đây là một số điều kiện để loại bỏ giá trị ngoại lệ:\n",
    " + Loại bỏ các bản ghi có giá thuê dưới 500,000 VND/tháng, vì giá này thường không phản ánh thị trường chung cư hiện nay.\n",
    " + Loại bỏ các bản ghi có giá thuê cao hơn 100 triệu VND/tháng, vì giá này có vẻ quá cao so với giá trung bình của thị trường.\n",
    " + Loại bỏ các bản ghi có diện tích dưới 10 m², vì diện tích nhỏ như vậy thường không thích hợp cho một căn hộ sống.\n",
    "\n",
    "Quá trình này sẽ giúp làm sạch dữ liệu và tạo ra một tập dữ liệu hợp lý hơn để nghiên cứu về giá chung cư, bỏ qua những giá trị không thực tế hoặc có vẻ là thông tin đăng tin không chính xác."
   ]
  },
  {
   "cell_type": "code",
   "execution_count": 13,
   "metadata": {
    "ExecuteTime": {
     "end_time": "2023-12-10T16:21:30.130425Z",
     "start_time": "2023-12-10T16:21:30.098312Z"
    },
    "collapsed": false
   },
   "outputs": [
    {
     "data": {
      "text/plain": [
       "(19829, 18)"
      ]
     },
     "execution_count": 13,
     "metadata": {},
     "output_type": "execute_result"
    }
   ],
   "source": [
    "index = apartment_df[(apartment_df['price'] < 500000) | (apartment_df['price'] > 100000000) | (apartment_df['size'] < 10)].index\n",
    "apartment_df.drop(index, inplace=True)\n",
    "\n",
    "apartment_df.shape"
   ]
  },
  {
   "cell_type": "markdown",
   "metadata": {
    "collapsed": false
   },
   "source": [
    "### 2.7. Với mỗi cột có kiểu dữ liệu categorical, các giá trị được phân bố như thế nào?"
   ]
  },
  {
   "cell_type": "markdown",
   "metadata": {
    "collapsed": false
   },
   "source": [
    "#### Cột **region_name**"
   ]
  },
  {
   "cell_type": "code",
   "execution_count": 14,
   "metadata": {
    "ExecuteTime": {
     "end_time": "2023-12-10T16:21:30.131352Z",
     "start_time": "2023-12-10T16:21:30.112008Z"
    },
    "collapsed": false
   },
   "outputs": [
    {
     "data": {
      "text/plain": [
       "region_name\n",
       "Tp Hồ Chí Minh    19829\n",
       "Name: count, dtype: int64"
      ]
     },
     "execution_count": 14,
     "metadata": {},
     "output_type": "execute_result"
    }
   ],
   "source": [
    "apartment_df['region_name'].value_counts()"
   ]
  },
  {
   "cell_type": "markdown",
   "metadata": {
    "collapsed": false
   },
   "source": [
    "Do ta chỉ xem xét ở TP HCM nên cột này chỉ có duy nhất một giá trị, tiến hành loại bỏ cột này."
   ]
  },
  {
   "cell_type": "code",
   "execution_count": 15,
   "metadata": {
    "ExecuteTime": {
     "end_time": "2023-12-10T16:21:30.144189Z",
     "start_time": "2023-12-10T16:21:30.118528Z"
    },
    "collapsed": false
   },
   "outputs": [],
   "source": [
    "apartment_df = apartment_df.drop(['region_name'], axis=1)"
   ]
  },
  {
   "cell_type": "markdown",
   "metadata": {
    "collapsed": false
   },
   "source": [
    "#### Cột **area_name**"
   ]
  },
  {
   "cell_type": "code",
   "execution_count": 16,
   "metadata": {
    "ExecuteTime": {
     "end_time": "2023-12-10T16:21:30.439957Z",
     "start_time": "2023-12-10T16:21:30.120942Z"
    },
    "collapsed": false
   },
   "outputs": [
    {
     "data": {
      "text/plain": [
       "<Axes: title={'center': 'Distribution of area_name'}, xlabel='area_name'>"
      ]
     },
     "execution_count": 16,
     "metadata": {},
     "output_type": "execute_result"
    },
    {
     "data": {
      "image/png": "[encoded data removed]",
      "text/plain": [
       "<Figure size 640x480 with 1 Axes>"
      ]
     },
     "metadata": {},
     "output_type": "display_data"
    }
   ],
   "source": [
    "area = apartment_df['area_name'].value_counts()\n",
    "area.plot.bar(title='Distribution of area_name')"
   ]
  },
  {
   "cell_type": "markdown",
   "metadata": {
    "collapsed": false
   },
   "source": [
    "Trên đây là phân bố căn hộ cho thuê theo quận sắp xếp theo số lượn giảm dần:\n",
    "+ Nhiều nhất là thành phố Thủ Đức(quận Thủ Đức + quận 9 + quận 2 cũ) có diện tích lớn với gần 3500 tin cho thuê, tiếp theo là quận 7 (2500 tin).\n",
    "+ Các quận huyện còn lại phân bố đều.\n",
    "+ Huyện Hóc Môn đứng cuối bảng và không có tin đăng nào gần đây."
   ]
  },
  {
   "cell_type": "markdown",
   "metadata": {
    "collapsed": false
   },
   "source": [
    "#### Cột **owner**"
   ]
  },
  {
   "cell_type": "code",
   "execution_count": 17,
   "metadata": {
    "ExecuteTime": {
     "end_time": "2023-12-10T16:21:30.445361Z",
     "start_time": "2023-12-10T16:21:30.442081Z"
    },
    "collapsed": false
   },
   "outputs": [
    {
     "data": {
      "text/plain": [
       "owner\n",
       "False    19829\n",
       "Name: count, dtype: int64"
      ]
     },
     "execution_count": 17,
     "metadata": {},
     "output_type": "execute_result"
    }
   ],
   "source": [
    "apartment_df['owner'].value_counts()"
   ]
  },
  {
   "cell_type": "markdown",
   "metadata": {
    "collapsed": false
   },
   "source": [
    "Tất cả đề là False, có nghĩa là không có chủ nhà nào đăng tin cho thuê, tất cả đều là môi giới, nếu thuê thì sẽ khó thương lượng giảm giá với chủ nhà đuợc vì họ thường phải trả cho môi giới một khoản phí. Ta cũng loại bỏ cột này luôn."
   ]
  },
  {
   "cell_type": "code",
   "execution_count": 18,
   "metadata": {
    "ExecuteTime": {
     "end_time": "2023-12-10T16:21:30.454278Z",
     "start_time": "2023-12-10T16:21:30.447203Z"
    },
    "collapsed": false
   },
   "outputs": [],
   "source": [
    "apartment_df = apartment_df.drop(['owner'], axis=1)"
   ]
  },
  {
   "cell_type": "markdown",
   "metadata": {
    "collapsed": false
   },
   "source": [
    "#### Cột **apartment_type**"
   ]
  },
  {
   "cell_type": "markdown",
   "metadata": {},
   "source": [
    "Gồm các loại căn hộ như sau:"
   ]
  },
  {
   "cell_type": "code",
   "execution_count": 19,
   "metadata": {},
   "outputs": [
    {
     "data": {
      "text/plain": [
       "array(['Duplex', 'Căn hộ dịch vụ, mini', 'Chung cư', 'Officetel',\n",
       "       'Penthouse', 'Tập thể, cư xá'], dtype=object)"
      ]
     },
     "execution_count": 19,
     "metadata": {},
     "output_type": "execute_result"
    }
   ],
   "source": [
    "apartment_df['apartment_type'].unique()"
   ]
  },
  {
   "cell_type": "code",
   "execution_count": 20,
   "metadata": {
    "ExecuteTime": {
     "end_time": "2023-12-10T16:21:30.590636Z",
     "start_time": "2023-12-10T16:21:30.451653Z"
    },
    "collapsed": false
   },
   "outputs": [
    {
     "name": "stdout",
     "output_type": "stream",
     "text": [
      "(18805, 16)\n"
     ]
    },
    {
     "data": {
      "text/plain": [
       "<Axes: title={'center': 'Number of apartments per type'}, xlabel='apartment_type'>"
      ]
     },
     "execution_count": 20,
     "metadata": {},
     "output_type": "execute_result"
    },
    {
     "data": {
      "image/png": "[encoded data removed]",
      "text/plain": [
       "<Figure size 640x480 with 1 Axes>"
      ]
     },
     "metadata": {},
     "output_type": "display_data"
    }
   ],
   "source": [
    "apartment_df = apartment_df[(apartment_df['apartment_type'] == 'Chung cư') | (apartment_df['apartment_type'] == 'Căn hộ dịch vụ, mini')]\n",
    "\n",
    "print(apartment_df.shape)\n",
    "\n",
    "type = apartment_df['apartment_type'].value_counts()\n",
    "\n",
    "type.plot.bar(title=\"Number of apartments per type\")"
   ]
  },
  {
   "cell_type": "markdown",
   "metadata": {
    "collapsed": false
   },
   "source": [
    "Sau khi lọc, chỉ còn 18805 dòng, bao gồm **Chung cư** với gần 12000 dòng, số còn lại là **Căn hộ dịch vụ, mini**(gần 7000 dòng)."
   ]
  },
  {
   "cell_type": "markdown",
   "metadata": {
    "collapsed": false
   },
   "source": [
    "#### Cột **zero_deposit**"
   ]
  },
  {
   "cell_type": "code",
   "execution_count": 21,
   "metadata": {
    "ExecuteTime": {
     "end_time": "2023-12-10T16:21:30.594237Z",
     "start_time": "2023-12-10T16:21:30.588160Z"
    },
    "collapsed": false
   },
   "outputs": [
    {
     "data": {
      "text/plain": [
       "zero_deposit\n",
       "False    18805\n",
       "Name: count, dtype: int64"
      ]
     },
     "execution_count": 21,
     "metadata": {},
     "output_type": "execute_result"
    }
   ],
   "source": [
    "apartment_df['zero_deposit'].value_counts()"
   ]
  },
  {
   "cell_type": "markdown",
   "metadata": {
    "collapsed": false
   },
   "source": [
    "Tất cả chủ nhà đều yêu cầu tiền cọc, vì vậy ta cũng sẽ bỏ qua cột này!"
   ]
  },
  {
   "cell_type": "code",
   "execution_count": 22,
   "metadata": {
    "ExecuteTime": {
     "end_time": "2023-12-10T16:21:30.601515Z",
     "start_time": "2023-12-10T16:21:30.594743Z"
    },
    "collapsed": false
   },
   "outputs": [],
   "source": [
    "apartment_df = apartment_df.drop(['zero_deposit'], axis=1)"
   ]
  },
  {
   "cell_type": "markdown",
   "metadata": {
    "collapsed": false
   },
   "source": [
    "#### Cột **list_time**"
   ]
  },
  {
   "cell_type": "code",
   "execution_count": 23,
   "metadata": {
    "ExecuteTime": {
     "end_time": "2023-12-10T16:21:30.665274Z",
     "start_time": "2023-12-10T16:21:30.601445Z"
    },
    "collapsed": false
   },
   "outputs": [
    {
     "data": {
      "text/plain": [
       "list_time\n",
       "2024-01-04    2515\n",
       "2024-01-03    2051\n",
       "2024-01-02    1919\n",
       "2024-01-05    1324\n",
       "2023-12-26    1278\n",
       "2023-12-30    1254\n",
       "2023-12-27    1202\n",
       "2023-12-29    1190\n",
       "2023-12-25    1146\n",
       "2023-12-28    1110\n",
       "2023-12-31     895\n",
       "2023-12-23     889\n",
       "2023-12-24     693\n",
       "2024-01-01     677\n",
       "2023-12-22     609\n",
       "2023-12-21      53\n",
       "Name: count, dtype: int64"
      ]
     },
     "execution_count": 23,
     "metadata": {},
     "output_type": "execute_result"
    }
   ],
   "source": [
    "pd.to_datetime(apartment_df['list_time']).dt.date.value_counts()"
   ]
  },
  {
   "cell_type": "markdown",
   "metadata": {
    "collapsed": false
   },
   "source": [
    "Các tin được đăng từ 21/12/2023 tới 4/1/2024, trong khoảng 2 tuần, nên có thể coi dữ liệu là mới, tính ở thời điểm phân tích là ngày 9/1/2024. Ta cũng có thể bỏ cột này luôn vì nó không có quá nhiều ý nghĩa khi gần nhau."
   ]
  },
  {
   "cell_type": "code",
   "execution_count": 24,
   "metadata": {
    "ExecuteTime": {
     "end_time": "2023-12-10T16:21:30.670910Z",
     "start_time": "2023-12-10T16:21:30.666714Z"
    },
    "collapsed": false
   },
   "outputs": [],
   "source": [
    "apartment_df = apartment_df.drop(['list_time'], axis=1)"
   ]
  },
  {
   "cell_type": "markdown",
   "metadata": {
    "collapsed": false
   },
   "source": [
    "## 3. Đặt ra các câu hỏi?"
   ]
  },
  {
   "cell_type": "markdown",
   "metadata": {
    "collapsed": false
   },
   "source": [
    "### Câu 1. Giá thuê căn hộ ở các quận chênh lệch như thế nào?\n",
    "\n",
    "**Ý nghĩa**: Có cái nhìn tổng quát về giá thuê nhà tại các quận, giá theo diện tích, theo số phòng, theo loại hình để có thể xem xét và đưa ra quyết định nên thuê ở đâu, các đặc điểm của căn hộ ra sao.\n",
    "\n",
    "### Câu 2. Các yếu tố ảnh hưởng tới giá thuê nhà?\n",
    "\n",
    "**Ý nghĩa**: Để hiểu thêm về sự tương quan giữa giá thuê với các yếu tố khác như diện tích, số phòng, số nhà vệ sinh, vị trí, ...\n",
    "\n",
    "### Câu 3. Tìm một căn hộ phù hợp để thuê theo một số tiêu chí?\n",
    "\n",
    "**Ý nghĩa**: thực tế chỉ là để tham khảo chọn phòng để thuê"
   ]
  },
  {
   "cell_type": "markdown",
   "metadata": {
    "collapsed": false
   },
   "source": [
    "## 4. Phân tích dữ liệu và trả lời từng câu hỏi"
   ]
  },
  {
   "cell_type": "markdown",
   "metadata": {
    "collapsed": false
   },
   "source": [
    "### Câu 1: Giá thuê căn hộ ở các quận chênh lệch như thế nào?"
   ]
  },
  {
   "cell_type": "markdown",
   "metadata": {
    "collapsed": false
   },
   "source": [
    "Ta sẽ tổng hợp lại dữ liệu theo các quận, rồi tìm ra min-max và avg price theo số phòng, min-max theo size"
   ]
  },
  {
   "cell_type": "code",
   "execution_count": 25,
   "metadata": {
    "ExecuteTime": {
     "end_time": "2023-12-10T16:21:30.694849Z",
     "start_time": "2023-12-10T16:21:30.672152Z"
    },
    "collapsed": false
   },
   "outputs": [
    {
     "name": "stdout",
     "output_type": "stream",
     "text": [
      "Mean, min, and max price grouped by area_name\n"
     ]
    },
    {
     "data": {
      "text/html": [
       "<div>\n",
       "<style scoped>\n",
       "    .dataframe tbody tr th:only-of-type {\n",
       "        vertical-align: middle;\n",
       "    }\n",
       "\n",
       "    .dataframe tbody tr th {\n",
       "        vertical-align: top;\n",
       "    }\n",
       "\n",
       "    .dataframe thead tr th {\n",
       "        text-align: left;\n",
       "    }\n",
       "\n",
       "    .dataframe thead tr:last-of-type th {\n",
       "        text-align: right;\n",
       "    }\n",
       "</style>\n",
       "<table border=\"1\" class=\"dataframe\">\n",
       "  <thead>\n",
       "    <tr>\n",
       "      <th></th>\n",
       "      <th colspan=\"4\" halign=\"left\">price</th>\n",
       "      <th colspan=\"2\" halign=\"left\">size</th>\n",
       "    </tr>\n",
       "    <tr>\n",
       "      <th></th>\n",
       "      <th>min</th>\n",
       "      <th>max</th>\n",
       "      <th>mean</th>\n",
       "      <th>count</th>\n",
       "      <th>min</th>\n",
       "      <th>max</th>\n",
       "    </tr>\n",
       "    <tr>\n",
       "      <th>area_name</th>\n",
       "      <th></th>\n",
       "      <th></th>\n",
       "      <th></th>\n",
       "      <th></th>\n",
       "      <th></th>\n",
       "      <th></th>\n",
       "    </tr>\n",
       "  </thead>\n",
       "  <tbody>\n",
       "    <tr>\n",
       "      <th>Huyện Bình Chánh</th>\n",
       "      <td>1700000</td>\n",
       "      <td>18000000</td>\n",
       "      <td>6,964,692</td>\n",
       "      <td>795</td>\n",
       "      <td>16</td>\n",
       "      <td>127</td>\n",
       "    </tr>\n",
       "    <tr>\n",
       "      <th>Huyện Hóc Môn</th>\n",
       "      <td>3700000</td>\n",
       "      <td>5500000</td>\n",
       "      <td>4,500,000</td>\n",
       "      <td>8</td>\n",
       "      <td>25</td>\n",
       "      <td>70</td>\n",
       "    </tr>\n",
       "    <tr>\n",
       "      <th>Huyện Nhà Bè</th>\n",
       "      <td>1300000</td>\n",
       "      <td>23000000</td>\n",
       "      <td>10,958,652</td>\n",
       "      <td>230</td>\n",
       "      <td>10</td>\n",
       "      <td>360</td>\n",
       "    </tr>\n",
       "    <tr>\n",
       "      <th>Quận 1</th>\n",
       "      <td>1200000</td>\n",
       "      <td>98000000</td>\n",
       "      <td>10,979,610</td>\n",
       "      <td>982</td>\n",
       "      <td>10</td>\n",
       "      <td>178</td>\n",
       "    </tr>\n",
       "    <tr>\n",
       "      <th>Quận 10</th>\n",
       "      <td>1200000</td>\n",
       "      <td>38000000</td>\n",
       "      <td>10,333,359</td>\n",
       "      <td>895</td>\n",
       "      <td>10</td>\n",
       "      <td>247</td>\n",
       "    </tr>\n",
       "    <tr>\n",
       "      <th>Quận 11</th>\n",
       "      <td>3500000</td>\n",
       "      <td>19000000</td>\n",
       "      <td>7,424,699</td>\n",
       "      <td>153</td>\n",
       "      <td>18</td>\n",
       "      <td>120</td>\n",
       "    </tr>\n",
       "    <tr>\n",
       "      <th>Quận 12</th>\n",
       "      <td>1700000</td>\n",
       "      <td>12000000</td>\n",
       "      <td>6,209,808</td>\n",
       "      <td>525</td>\n",
       "      <td>14</td>\n",
       "      <td>180</td>\n",
       "    </tr>\n",
       "    <tr>\n",
       "      <th>Quận 3</th>\n",
       "      <td>3000000</td>\n",
       "      <td>35000000</td>\n",
       "      <td>8,629,733</td>\n",
       "      <td>649</td>\n",
       "      <td>10</td>\n",
       "      <td>135</td>\n",
       "    </tr>\n",
       "    <tr>\n",
       "      <th>Quận 4</th>\n",
       "      <td>750000</td>\n",
       "      <td>50000000</td>\n",
       "      <td>14,294,583</td>\n",
       "      <td>528</td>\n",
       "      <td>15</td>\n",
       "      <td>200</td>\n",
       "    </tr>\n",
       "    <tr>\n",
       "      <th>Quận 5</th>\n",
       "      <td>2500000</td>\n",
       "      <td>30000000</td>\n",
       "      <td>12,429,033</td>\n",
       "      <td>361</td>\n",
       "      <td>20</td>\n",
       "      <td>132</td>\n",
       "    </tr>\n",
       "    <tr>\n",
       "      <th>Quận 6</th>\n",
       "      <td>2500000</td>\n",
       "      <td>20000000</td>\n",
       "      <td>8,530,269</td>\n",
       "      <td>297</td>\n",
       "      <td>15</td>\n",
       "      <td>112</td>\n",
       "    </tr>\n",
       "    <tr>\n",
       "      <th>Quận 7</th>\n",
       "      <td>750000</td>\n",
       "      <td>75000000</td>\n",
       "      <td>10,193,505</td>\n",
       "      <td>2393</td>\n",
       "      <td>15</td>\n",
       "      <td>250</td>\n",
       "    </tr>\n",
       "    <tr>\n",
       "      <th>Quận 8</th>\n",
       "      <td>2000000</td>\n",
       "      <td>25000000</td>\n",
       "      <td>8,080,749</td>\n",
       "      <td>772</td>\n",
       "      <td>12</td>\n",
       "      <td>535</td>\n",
       "    </tr>\n",
       "    <tr>\n",
       "      <th>Quận Bình Thạnh</th>\n",
       "      <td>900000</td>\n",
       "      <td>100000000</td>\n",
       "      <td>9,092,063</td>\n",
       "      <td>1750</td>\n",
       "      <td>10</td>\n",
       "      <td>30,000</td>\n",
       "    </tr>\n",
       "    <tr>\n",
       "      <th>Quận Bình Tân</th>\n",
       "      <td>2100000</td>\n",
       "      <td>35000000</td>\n",
       "      <td>6,338,747</td>\n",
       "      <td>407</td>\n",
       "      <td>15</td>\n",
       "      <td>800</td>\n",
       "    </tr>\n",
       "    <tr>\n",
       "      <th>Quận Gò Vấp</th>\n",
       "      <td>1400000</td>\n",
       "      <td>18000000</td>\n",
       "      <td>5,659,306</td>\n",
       "      <td>880</td>\n",
       "      <td>15</td>\n",
       "      <td>113</td>\n",
       "    </tr>\n",
       "    <tr>\n",
       "      <th>Quận Phú Nhuận</th>\n",
       "      <td>3200000</td>\n",
       "      <td>28000000</td>\n",
       "      <td>9,212,138</td>\n",
       "      <td>1071</td>\n",
       "      <td>15</td>\n",
       "      <td>80,000</td>\n",
       "    </tr>\n",
       "    <tr>\n",
       "      <th>Quận Tân Bình</th>\n",
       "      <td>1700000</td>\n",
       "      <td>35000000</td>\n",
       "      <td>7,714,862</td>\n",
       "      <td>1640</td>\n",
       "      <td>16</td>\n",
       "      <td>525</td>\n",
       "    </tr>\n",
       "    <tr>\n",
       "      <th>Quận Tân Phú</th>\n",
       "      <td>2400000</td>\n",
       "      <td>65000000</td>\n",
       "      <td>8,870,824</td>\n",
       "      <td>1104</td>\n",
       "      <td>15</td>\n",
       "      <td>220</td>\n",
       "    </tr>\n",
       "    <tr>\n",
       "      <th>Thành phố Thủ Đức</th>\n",
       "      <td>500000</td>\n",
       "      <td>93000000</td>\n",
       "      <td>12,273,653</td>\n",
       "      <td>3365</td>\n",
       "      <td>10</td>\n",
       "      <td>335</td>\n",
       "    </tr>\n",
       "  </tbody>\n",
       "</table>\n",
       "</div>"
      ],
      "text/plain": [
       "                     price                             size       \n",
       "                       min        max       mean count  min    max\n",
       "area_name                                                         \n",
       "Huyện Bình Chánh   1700000   18000000  6,964,692   795   16    127\n",
       "Huyện Hóc Môn      3700000    5500000  4,500,000     8   25     70\n",
       "Huyện Nhà Bè       1300000   23000000 10,958,652   230   10    360\n",
       "Quận 1             1200000   98000000 10,979,610   982   10    178\n",
       "Quận 10            1200000   38000000 10,333,359   895   10    247\n",
       "Quận 11            3500000   19000000  7,424,699   153   18    120\n",
       "Quận 12            1700000   12000000  6,209,808   525   14    180\n",
       "Quận 3             3000000   35000000  8,629,733   649   10    135\n",
       "Quận 4              750000   50000000 14,294,583   528   15    200\n",
       "Quận 5             2500000   30000000 12,429,033   361   20    132\n",
       "Quận 6             2500000   20000000  8,530,269   297   15    112\n",
       "Quận 7              750000   75000000 10,193,505  2393   15    250\n",
       "Quận 8             2000000   25000000  8,080,749   772   12    535\n",
       "Quận Bình Thạnh     900000  100000000  9,092,063  1750   10 30,000\n",
       "Quận Bình Tân      2100000   35000000  6,338,747   407   15    800\n",
       "Quận Gò Vấp        1400000   18000000  5,659,306   880   15    113\n",
       "Quận Phú Nhuận     3200000   28000000  9,212,138  1071   15 80,000\n",
       "Quận Tân Bình      1700000   35000000  7,714,862  1640   16    525\n",
       "Quận Tân Phú       2400000   65000000  8,870,824  1104   15    220\n",
       "Thành phố Thủ Đức   500000   93000000 12,273,653  3365   10    335"
      ]
     },
     "execution_count": 25,
     "metadata": {},
     "output_type": "execute_result"
    }
   ],
   "source": [
    "pd.set_option('display.float_format',  '{:,.0f}'.format)\n",
    "\n",
    "res = apartment_df.groupby(['area_name']).agg({ 'price': ['min', 'max', 'mean', 'count'], 'size': ['min', 'max'] })\n",
    "print('Mean, min, and max price grouped by area_name')\n",
    "res"
   ]
  },
  {
   "cell_type": "markdown",
   "metadata": {
    "collapsed": false
   },
   "source": [
    "Từ dữ liệu trên, ta thấy Quận 4 có giá nhà trung bình cao nhất, với mức 14,294,583 VND, còn huyện Hóc Môn có giá nhà trung bình thấp nhất với 4,500,000 VND. Sự chênh lệch này có thể dễ dàng lý giải vì Quận 4 nằm ở trung tâm thành phố nên sẽ có giá cho thuê cao hơn.\n",
    "Một số quận như Quận 4, Quận 7 và Thành phố Thủ Đức có phân phối giá thuê rộng,có thể là do sự đa dạng trong loại hình và chất lượng căn hộ.\n",
    "Nhìn chung, các quận ở gần trung tâm sẽ có giá cao hơn so với các quận ngoại thành."
   ]
  },
  {
   "cell_type": "markdown",
   "metadata": {},
   "source": [
    "### Câu 2: Các yếu tố ảnh hưởng tới giá thuê nhà?"
   ]
  },
  {
   "cell_type": "markdown",
   "metadata": {},
   "source": [
    "Các yếu tố ảnh hưởng tới giá thuê nhà gồm: "
   ]
  },
  {
   "cell_type": "code",
   "execution_count": 29,
   "metadata": {},
   "outputs": [
    {
     "data": {
      "text/html": [
       "<div>\n",
       "<style scoped>\n",
       "    .dataframe tbody tr th:only-of-type {\n",
       "        vertical-align: middle;\n",
       "    }\n",
       "\n",
       "    .dataframe tbody tr th {\n",
       "        vertical-align: top;\n",
       "    }\n",
       "\n",
       "    .dataframe thead th {\n",
       "        text-align: right;\n",
       "    }\n",
       "</style>\n",
       "<table border=\"1\" class=\"dataframe\">\n",
       "  <thead>\n",
       "    <tr style=\"text-align: right;\">\n",
       "      <th></th>\n",
       "      <th>subject</th>\n",
       "      <th>body</th>\n",
       "      <th>price</th>\n",
       "      <th>price_string</th>\n",
       "      <th>size</th>\n",
       "      <th>rooms</th>\n",
       "      <th>toilets</th>\n",
       "      <th>area_name</th>\n",
       "      <th>ward_name</th>\n",
       "      <th>street_name</th>\n",
       "      <th>deposit</th>\n",
       "      <th>longitude</th>\n",
       "      <th>latitude</th>\n",
       "      <th>apartment_type</th>\n",
       "    </tr>\n",
       "  </thead>\n",
       "  <tbody>\n",
       "    <tr>\n",
       "      <th>1</th>\n",
       "      <td>1 PHÒNG NGỦ TÁCH BẾP 45M2, CHO NUÔI PET!</td>\n",
       "      <td>CĂN HỘ CAO CẤP 1 PHÒNG NGỦ!__45M2\\n✓BAN CÔNG L...</td>\n",
       "      <td>8600000</td>\n",
       "      <td>8,6 triệu/tháng</td>\n",
       "      <td>45</td>\n",
       "      <td>1</td>\n",
       "      <td>1</td>\n",
       "      <td>Thành phố Thủ Đức</td>\n",
       "      <td>Phường Thảo Điền (Quận 2 cũ)</td>\n",
       "      <td>Nguyễn Văn Hưởng</td>\n",
       "      <td>8600000</td>\n",
       "      <td>107</td>\n",
       "      <td>11</td>\n",
       "      <td>Căn hộ dịch vụ, mini</td>\n",
       "    </tr>\n",
       "    <tr>\n",
       "      <th>2</th>\n",
       "      <td>Cho thuê 1-2-3PN Kingdom 101,Quận 10,Nhà mới,7...</td>\n",
       "      <td>🌆 Kingdom101 334 Tô Hiến Thành Q10🌇\\nCập Nhật ...</td>\n",
       "      <td>16500000</td>\n",
       "      <td>16,5 triệu/tháng</td>\n",
       "      <td>78</td>\n",
       "      <td>2</td>\n",
       "      <td>2</td>\n",
       "      <td>Quận 10</td>\n",
       "      <td>Phường 14</td>\n",
       "      <td>Tô Hiến Thành</td>\n",
       "      <td>0</td>\n",
       "      <td>107</td>\n",
       "      <td>11</td>\n",
       "      <td>Chung cư</td>\n",
       "    </tr>\n",
       "    <tr>\n",
       "      <th>3</th>\n",
       "      <td>Căn hộ giá rẻ ở liền quận 11 từ 8.5tr /2PN trố...</td>\n",
       "      <td>Cần cho thuê một số căn hộ chung cư giá rẻ ở l...</td>\n",
       "      <td>8500000</td>\n",
       "      <td>8,5 triệu/tháng</td>\n",
       "      <td>68</td>\n",
       "      <td>2</td>\n",
       "      <td>2</td>\n",
       "      <td>Quận 11</td>\n",
       "      <td>Phường 5</td>\n",
       "      <td>Lạc Long Quân</td>\n",
       "      <td>1</td>\n",
       "      <td>107</td>\n",
       "      <td>11</td>\n",
       "      <td>Chung cư</td>\n",
       "    </tr>\n",
       "    <tr>\n",
       "      <th>4</th>\n",
       "      <td>Cho thuê căn hộ Hausneo q9, 2pn,2wc,9tr</td>\n",
       "      <td>Cho thuê căn hộ HAUSNEO 2pn,2wc\\n👉Giá: 9 triệu...</td>\n",
       "      <td>9000000</td>\n",
       "      <td>9 triệu/tháng</td>\n",
       "      <td>78</td>\n",
       "      <td>2</td>\n",
       "      <td>2</td>\n",
       "      <td>Thành phố Thủ Đức</td>\n",
       "      <td>Phường Phú Hữu (Quận 9 cũ)</td>\n",
       "      <td>Đường số 11</td>\n",
       "      <td>0</td>\n",
       "      <td>107</td>\n",
       "      <td>11</td>\n",
       "      <td>Chung cư</td>\n",
       "    </tr>\n",
       "    <tr>\n",
       "      <th>5</th>\n",
       "      <td>ECO GREEN 3PN - NHÀ NTCB - SIÊU RỘNG RÃI VIEW ...</td>\n",
       "      <td>Cho thuê căn hộ 3PN 2WC tại Ecogreen\\nGIÁ 15.5...</td>\n",
       "      <td>15500000</td>\n",
       "      <td>15,5 triệu/tháng</td>\n",
       "      <td>95</td>\n",
       "      <td>3</td>\n",
       "      <td>2</td>\n",
       "      <td>Quận 7</td>\n",
       "      <td>Phường Tân Thuận Tây</td>\n",
       "      <td>Nguyễn Văn Linh</td>\n",
       "      <td>0</td>\n",
       "      <td>107</td>\n",
       "      <td>11</td>\n",
       "      <td>Chung cư</td>\n",
       "    </tr>\n",
       "    <tr>\n",
       "      <th>...</th>\n",
       "      <td>...</td>\n",
       "      <td>...</td>\n",
       "      <td>...</td>\n",
       "      <td>...</td>\n",
       "      <td>...</td>\n",
       "      <td>...</td>\n",
       "      <td>...</td>\n",
       "      <td>...</td>\n",
       "      <td>...</td>\n",
       "      <td>...</td>\n",
       "      <td>...</td>\n",
       "      <td>...</td>\n",
       "      <td>...</td>\n",
       "      <td>...</td>\n",
       "    </tr>\n",
       "    <tr>\n",
       "      <th>19880</th>\n",
       "      <td>PKD TERRA Royal - Cho thuê nhiều căn 2 pn từ 1...</td>\n",
       "      <td>PKD TERRA Royal - Cho thuê nhiều căn 2 pn từ 1...</td>\n",
       "      <td>20000000</td>\n",
       "      <td>20 triệu/tháng</td>\n",
       "      <td>73</td>\n",
       "      <td>2</td>\n",
       "      <td>2</td>\n",
       "      <td>Quận 3</td>\n",
       "      <td>Phường Võ Thị Sáu</td>\n",
       "      <td>Lý Chính Thắng</td>\n",
       "      <td>40000000</td>\n",
       "      <td>107</td>\n",
       "      <td>11</td>\n",
       "      <td>Chung cư</td>\n",
       "    </tr>\n",
       "    <tr>\n",
       "      <th>19881</th>\n",
       "      <td>Lumiere Riverside_Cho thuê căn hộ 1PN_59m2_NTC...</td>\n",
       "      <td>🍀 ___LUMIERE RIVERSIDE___🍀\\n\\nCăn hộ cho thuê ...</td>\n",
       "      <td>20000000</td>\n",
       "      <td>20 triệu/tháng</td>\n",
       "      <td>59</td>\n",
       "      <td>1</td>\n",
       "      <td>1</td>\n",
       "      <td>Thành phố Thủ Đức</td>\n",
       "      <td>Phường An Phú (Quận 2 cũ)</td>\n",
       "      <td>Xa Lộ Hà Nội</td>\n",
       "      <td>0</td>\n",
       "      <td>107</td>\n",
       "      <td>11</td>\n",
       "      <td>Chung cư</td>\n",
       "    </tr>\n",
       "    <tr>\n",
       "      <th>19883</th>\n",
       "      <td>🌱🌱 Đầu tháng trống căn hộ 1 phòng ngủ tại Thảo...</td>\n",
       "      <td>🌱Căn hộ cho thuê cực sang - xịn Full nội thất ...</td>\n",
       "      <td>10000000</td>\n",
       "      <td>10 triệu/tháng</td>\n",
       "      <td>55</td>\n",
       "      <td>1</td>\n",
       "      <td>1</td>\n",
       "      <td>Thành phố Thủ Đức</td>\n",
       "      <td>Phường Thảo Điền (Quận 2 cũ)</td>\n",
       "      <td>Đường Số 64</td>\n",
       "      <td>10000000</td>\n",
       "      <td>107</td>\n",
       "      <td>11</td>\n",
       "      <td>Căn hộ dịch vụ, mini</td>\n",
       "    </tr>\n",
       "    <tr>\n",
       "      <th>19884</th>\n",
       "      <td>[HCM] Cho thuê căn hộ 2PN - 2WC Lovera Vista K...</td>\n",
       "      <td>* Dự án: Khu căn hộ Lovera Vista, khu dân cư P...</td>\n",
       "      <td>9999999</td>\n",
       "      <td>10 triệu/tháng</td>\n",
       "      <td>65</td>\n",
       "      <td>2</td>\n",
       "      <td>1</td>\n",
       "      <td>Huyện Bình Chánh</td>\n",
       "      <td>Xã Phong Phú</td>\n",
       "      <td>Trịnh Quang Nghị</td>\n",
       "      <td>10000000</td>\n",
       "      <td>107</td>\n",
       "      <td>11</td>\n",
       "      <td>Chung cư</td>\n",
       "    </tr>\n",
       "    <tr>\n",
       "      <th>19885</th>\n",
       "      <td>Cực sốc 2pn giá cực rẻ - đúng hình đúng giá - ...</td>\n",
       "      <td>Cho thuê nhà căn hộ đẹp rộng ⚡ \\n📍 Địa chỉ: Đư...</td>\n",
       "      <td>8000000</td>\n",
       "      <td>8 triệu/tháng</td>\n",
       "      <td>70</td>\n",
       "      <td>3</td>\n",
       "      <td>1</td>\n",
       "      <td>Quận 5</td>\n",
       "      <td>Phường 2</td>\n",
       "      <td>Đường Trần Nhân Tôn</td>\n",
       "      <td>0</td>\n",
       "      <td>107</td>\n",
       "      <td>11</td>\n",
       "      <td>Căn hộ dịch vụ, mini</td>\n",
       "    </tr>\n",
       "  </tbody>\n",
       "</table>\n",
       "<p>18805 rows × 14 columns</p>\n",
       "</div>"
      ],
      "text/plain": [
       "                                                 subject  \\\n",
       "1               1 PHÒNG NGỦ TÁCH BẾP 45M2, CHO NUÔI PET!   \n",
       "2      Cho thuê 1-2-3PN Kingdom 101,Quận 10,Nhà mới,7...   \n",
       "3      Căn hộ giá rẻ ở liền quận 11 từ 8.5tr /2PN trố...   \n",
       "4                Cho thuê căn hộ Hausneo q9, 2pn,2wc,9tr   \n",
       "5      ECO GREEN 3PN - NHÀ NTCB - SIÊU RỘNG RÃI VIEW ...   \n",
       "...                                                  ...   \n",
       "19880  PKD TERRA Royal - Cho thuê nhiều căn 2 pn từ 1...   \n",
       "19881  Lumiere Riverside_Cho thuê căn hộ 1PN_59m2_NTC...   \n",
       "19883  🌱🌱 Đầu tháng trống căn hộ 1 phòng ngủ tại Thảo...   \n",
       "19884  [HCM] Cho thuê căn hộ 2PN - 2WC Lovera Vista K...   \n",
       "19885  Cực sốc 2pn giá cực rẻ - đúng hình đúng giá - ...   \n",
       "\n",
       "                                                    body     price  \\\n",
       "1      CĂN HỘ CAO CẤP 1 PHÒNG NGỦ!__45M2\\n✓BAN CÔNG L...   8600000   \n",
       "2      🌆 Kingdom101 334 Tô Hiến Thành Q10🌇\\nCập Nhật ...  16500000   \n",
       "3      Cần cho thuê một số căn hộ chung cư giá rẻ ở l...   8500000   \n",
       "4      Cho thuê căn hộ HAUSNEO 2pn,2wc\\n👉Giá: 9 triệu...   9000000   \n",
       "5      Cho thuê căn hộ 3PN 2WC tại Ecogreen\\nGIÁ 15.5...  15500000   \n",
       "...                                                  ...       ...   \n",
       "19880  PKD TERRA Royal - Cho thuê nhiều căn 2 pn từ 1...  20000000   \n",
       "19881  🍀 ___LUMIERE RIVERSIDE___🍀\\n\\nCăn hộ cho thuê ...  20000000   \n",
       "19883  🌱Căn hộ cho thuê cực sang - xịn Full nội thất ...  10000000   \n",
       "19884  * Dự án: Khu căn hộ Lovera Vista, khu dân cư P...   9999999   \n",
       "19885  Cho thuê nhà căn hộ đẹp rộng ⚡ \\n📍 Địa chỉ: Đư...   8000000   \n",
       "\n",
       "           price_string  size  rooms  toilets          area_name  \\\n",
       "1       8,6 triệu/tháng    45      1        1  Thành phố Thủ Đức   \n",
       "2      16,5 triệu/tháng    78      2        2            Quận 10   \n",
       "3       8,5 triệu/tháng    68      2        2            Quận 11   \n",
       "4         9 triệu/tháng    78      2        2  Thành phố Thủ Đức   \n",
       "5      15,5 triệu/tháng    95      3        2             Quận 7   \n",
       "...                 ...   ...    ...      ...                ...   \n",
       "19880    20 triệu/tháng    73      2        2             Quận 3   \n",
       "19881    20 triệu/tháng    59      1        1  Thành phố Thủ Đức   \n",
       "19883    10 triệu/tháng    55      1        1  Thành phố Thủ Đức   \n",
       "19884    10 triệu/tháng    65      2        1   Huyện Bình Chánh   \n",
       "19885     8 triệu/tháng    70      3        1             Quận 5   \n",
       "\n",
       "                          ward_name          street_name   deposit  longitude  \\\n",
       "1      Phường Thảo Điền (Quận 2 cũ)     Nguyễn Văn Hưởng   8600000        107   \n",
       "2                         Phường 14        Tô Hiến Thành         0        107   \n",
       "3                          Phường 5        Lạc Long Quân         1        107   \n",
       "4        Phường Phú Hữu (Quận 9 cũ)          Đường số 11         0        107   \n",
       "5              Phường Tân Thuận Tây      Nguyễn Văn Linh         0        107   \n",
       "...                             ...                  ...       ...        ...   \n",
       "19880             Phường Võ Thị Sáu       Lý Chính Thắng  40000000        107   \n",
       "19881     Phường An Phú (Quận 2 cũ)         Xa Lộ Hà Nội         0        107   \n",
       "19883  Phường Thảo Điền (Quận 2 cũ)          Đường Số 64  10000000        107   \n",
       "19884                  Xã Phong Phú     Trịnh Quang Nghị  10000000        107   \n",
       "19885                      Phường 2  Đường Trần Nhân Tôn         0        107   \n",
       "\n",
       "       latitude        apartment_type  \n",
       "1            11  Căn hộ dịch vụ, mini  \n",
       "2            11              Chung cư  \n",
       "3            11              Chung cư  \n",
       "4            11              Chung cư  \n",
       "5            11              Chung cư  \n",
       "...         ...                   ...  \n",
       "19880        11              Chung cư  \n",
       "19881        11              Chung cư  \n",
       "19883        11  Căn hộ dịch vụ, mini  \n",
       "19884        11              Chung cư  \n",
       "19885        11  Căn hộ dịch vụ, mini  \n",
       "\n",
       "[18805 rows x 14 columns]"
      ]
     },
     "execution_count": 29,
     "metadata": {},
     "output_type": "execute_result"
    }
   ],
   "source": [
    "apartment_df"
   ]
  },
  {
   "cell_type": "code",
   "execution_count": 28,
   "metadata": {},
   "outputs": [
    {
     "data": {
      "image/png": "[encoded data removed]",
      "text/plain": [
       "<Figure size 1200x600 with 1 Axes>"
      ]
     },
     "metadata": {},
     "output_type": "display_data"
    },
    {
     "data": {
      "image/png": "[encoded data removed]",
      "text/plain": [
       "<Figure size 1200x600 with 1 Axes>"
      ]
     },
     "metadata": {},
     "output_type": "display_data"
    },
    {
     "data": {
      "image/png": "[encoded data removed]",
      "text/plain": [
       "<Figure size 1200x600 with 1 Axes>"
      ]
     },
     "metadata": {},
     "output_type": "display_data"
    }
   ],
   "source": [
    "# Boxplot for Price and Rooms\n",
    "plt.figure(figsize=(12, 6))\n",
    "sns.boxplot(x='rooms', y='price', data=apartment_df)\n",
    "plt.title('Boxplot for Price and Rooms')\n",
    "plt.xlabel('Rooms')\n",
    "plt.ylabel('Price')\n",
    "plt.show()\n",
    "\n",
    "# Boxplot for Price and Size\n",
    "plt.figure(figsize=(12, 6))\n",
    "sns.boxplot(x='size', y='price', data=apartment_df)\n",
    "plt.title('Boxplot for Price and Size')\n",
    "plt.xlabel('Size')\n",
    "plt.ylabel('Price')\n",
    "plt.show()\n",
    "\n",
    "# Boxplot for Price and Toilets\n",
    "plt.figure(figsize=(12, 6))\n",
    "sns.boxplot(x='toilets', y='price', data=apartment_df)\n",
    "plt.title('Boxplot for Price and Toilets')\n",
    "plt.xlabel('Toilets')\n",
    "plt.ylabel('Price')\n",
    "plt.show()"
   ]
  },
  {
   "cell_type": "markdown",
   "metadata": {
    "collapsed": false
   },
   "source": [
    "## 5. Tổng hợp lại quá trình thực hiện đồ án"
   ]
  }
 ],
 "metadata": {
  "kernelspec": {
   "display_name": "Python 3",
   "language": "python",
   "name": "python3"
  },
  "language_info": {
   "codemirror_mode": {
    "name": "ipython",
    "version": 3
   },
   "file_extension": ".py",
   "mimetype": "text/x-python",
   "name": "python",
   "nbconvert_exporter": "python",
   "pygments_lexer": "ipython3",
   "version": "3.10.8"
  }
 },
 "nbformat": 4,
 "nbformat_minor": 0
}
