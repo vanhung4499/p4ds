{
 "cells": [
  {
   "cell_type": "markdown",
   "source": [
    "# ĐỒ ÁN CUỐI KỲ LẬP TRÌNH CHO KHOA HỌC DỮ LIỆU"
   ],
   "metadata": {
    "collapsed": false
   }
  },
  {
   "cell_type": "markdown",
   "source": [
    "## Thông tin đồ án\n",
    "\n",
    "+ Chủ đề: **Tìm hiểu về giá thuê chung cư ở thành phố Hồ Chí Minh**\n",
    "+ Github: [p4ds-final](https://github.com/vanhung4499/p4ds)\n",
    "\n",
    "### Thông tin nhóm\n",
    "\n",
    "Nhóm bao gồm các thanh vien:\n",
    "\n",
    "| MSSV    | Họ và tên       |\n",
    "|---------|-----------------|\n",
    "| 1712222 | Nguyễn Văn Hùng |"
   ],
   "metadata": {
    "collapsed": false
   }
  },
  {
   "cell_type": "markdown",
   "source": [
    "## Môi trường làm việc"
   ],
   "metadata": {
    "collapsed": false
   }
  },
  {
   "cell_type": "code",
   "execution_count": 1,
   "outputs": [
    {
     "data": {
      "text/plain": "'/usr/local/Caskroom/miniconda/base/envs/min_ds-env/bin/python'"
     },
     "execution_count": 1,
     "metadata": {},
     "output_type": "execute_result"
    }
   ],
   "source": [
    "import sys\n",
    "sys.executable"
   ],
   "metadata": {
    "collapsed": false,
    "ExecuteTime": {
     "end_time": "2023-12-10T16:21:29.483647Z",
     "start_time": "2023-12-10T16:21:29.481461Z"
    }
   }
  },
  {
   "cell_type": "markdown",
   "source": [
    "Môi trường làm việc mà em dùng:\n",
    "+ OS: macOS\n",
    "+ IDE: Pycharm\n",
    "+ Sử dụng mội trường `min_ds-evn` như các bài lab"
   ],
   "metadata": {
    "collapsed": false
   }
  },
  {
   "cell_type": "markdown",
   "source": [
    "## Import and constant"
   ],
   "metadata": {
    "collapsed": false
   }
  },
  {
   "cell_type": "code",
   "execution_count": 2,
   "outputs": [],
   "source": [
    "import numpy as np\n",
    "import pandas as pd\n",
    "from matplotlib import pyplot as plt\n",
    "import seaborn as sns"
   ],
   "metadata": {
    "collapsed": false,
    "ExecuteTime": {
     "end_time": "2023-12-10T16:21:29.487904Z",
     "start_time": "2023-12-10T16:21:29.485091Z"
    }
   }
  },
  {
   "cell_type": "code",
   "execution_count": 3,
   "outputs": [],
   "source": [
    "DATA_CSV = './data/hcm-apartment-rent-data.csv'\n",
    "plt.style.use(\"fivethirtyeight\")"
   ],
   "metadata": {
    "collapsed": false,
    "ExecuteTime": {
     "end_time": "2023-12-10T16:21:29.494016Z",
     "start_time": "2023-12-10T16:21:29.489754Z"
    }
   }
  },
  {
   "cell_type": "markdown",
   "source": [
    "## 1. Thu thập dữ liệu"
   ],
   "metadata": {
    "collapsed": false
   }
  },
  {
   "cell_type": "markdown",
   "source": [
    "### 1.1. Chủ đề, mục đích và nguồn của dữ liệu?"
   ],
   "metadata": {
    "collapsed": false
   }
  },
  {
   "cell_type": "markdown",
   "source": [
    "+ Chủ đề em nhắm tới là về giá thuê chung cư ở thành phố Hồ Chí Minh\n",
    "+ Do tìm trên kaggle chỉ có duy nhất một bộ dữ liệu về giá thuê chung cư của thành phố Hồ Chí Minh nhưng đã cũ và em cảm thấy nó ít không đủ các cột nên em đã tự crawl dữ liệu từ [nhatot.vn](https://www.nhatot.com/thue-can-ho-chung-cu-tp-ho-chi-minh), trang môi giới xếp tốp đầu trong lĩnh vực bất động sản trên [Google](https://www.google.com/search?q=thu%C3%AA+chung+c%C6%B0+h%E1%BB%93+ch%C3%AD+minh&oq=thu%C3%AA+chung+c%C6%B0&aqs=chrome.1.69i59l3j0i512l2j69i60l3.4604j0j7&sourceid=chrome&ie=UTF-8)\n",
    "+ Mục đích của em khá đơn giản là để xem xét giá cả chung cư cho thuê ở TPHCM, vì trong thời gian tới em cũng sẽ tìm chỗ ở mới (làm trước sau dùng lại)"
   ],
   "metadata": {
    "collapsed": false
   }
  },
  {
   "cell_type": "markdown",
   "source": [
    "### 1.2. Người ta có cho phép sử dụng dữ liệu như thế này hay không?"
   ],
   "metadata": {
    "collapsed": false
   }
  },
  {
   "cell_type": "markdown",
   "source": [
    "+ Việc crawl dữ liệu từ nhatot thông qua public api của chotot, nên có thể xem là là được phép sử dụng dữ liệu!\n",
    "+ Đối với project này nhằm mục đích nâng cao kiến thức, không phục vụ múc đích thương mại"
   ],
   "metadata": {
    "collapsed": false
   }
  },
  {
   "cell_type": "markdown",
   "source": [
    "### 1.3. Thu thập dữ liệu này như thế nào?"
   ],
   "metadata": {
    "collapsed": false
   }
  },
  {
   "cell_type": "markdown",
   "source": [
    "+ Dữ liệu được em crawl từ [nhatot.vn](https://www.nhatot.com/thue-can-ho-chung-cu-tp-ho-chi-minh), là trang môi giới về bất động sản lớn ở Việt Nam, web có rất nhiều tin cho thuê nhà\n",
    "+ Em crawl dữ liệu toàn bộ 1000 trang thu về 20000 record\n",
    "+ Chi tiết về cách crawl được mô tả ở file notebook `Crawl-data.ipynb`"
   ],
   "metadata": {
    "collapsed": false
   }
  },
  {
   "cell_type": "markdown",
   "source": [
    "## 2. Khám phá dữ liệu"
   ],
   "metadata": {
    "collapsed": false
   }
  },
  {
   "cell_type": "markdown",
   "source": [
    "### 2.1. Đọc dữ liệu"
   ],
   "metadata": {
    "collapsed": false
   }
  },
  {
   "cell_type": "code",
   "execution_count": 4,
   "outputs": [
    {
     "data": {
      "text/plain": "       ad_id    list_id      list_time  \\\n0  148983771  109051906  1702006245000   \n1  152808559  112328722  1701933976000   \n2  152043174  111673373  1702110778000   \n3  150969082  110755872  1701743146000   \n4  150055631  109969444  1702115497000   \n\n                                             subject  \\\n0           1 PHÒNG NGỦ TÁCH BẾP 45M2, CHO NUÔI PET!   \n1  Căn hộ chung cư saigonLAND hẻm 69 Nguyễn Gia T...   \n2        LAVITA CHARM CHO THUÊ CH 2PN 68M2 CÓ NT ĐẸP   \n3  CH cửa kính Thoáng Mát - Máy giặt riêng Ngay Đ...   \n4  Chính chủ Cho thuê căn hộ Saigon South căn 2PN...   \n\n                                                body     price  \\\n0  CĂN HỘ CAO CẤP 1 PHÒNG NGỦ!__45M2\\n✓BAN CÔNG L...   8600000   \n1  Cần cho thuê căn chung cư Saigon Land tại hẻm ...  15000000   \n2  CH LAVITA CHARM 1PN VIEW ĐẸP NGAY GẦN NGÃ TƯ B...   8500000   \n3  CH cửa kính Thoáng Mát - Máy giặt riêng Ngay Đ...   7000000   \n4  - Căn hộ 71m², 75m², 76m² - 2PN + 2WC.\\n+ Nội ...  13000000   \n\n      price_string   size  rooms  toilets  ...     region_name  \\\n0  8,6 triệu/tháng   45.0      1      1.0  ...  Tp Hồ Chí Minh   \n1   15 triệu/tháng  110.0      3      2.0  ...  Tp Hồ Chí Minh   \n2  8,5 triệu/tháng   68.0      2      2.0  ...  Tp Hồ Chí Minh   \n3    7 triệu/tháng   35.0      1      1.0  ...  Tp Hồ Chí Minh   \n4   13 triệu/tháng   75.0      2      2.0  ...  Tp Hồ Chí Minh   \n\n                             ward_name       street_name  deposit  \\\n0         Phường Thảo Điền (Quận 2 cũ)  Nguyễn Văn Hưởng  8600000   \n1                            Phường 25                D2        0   \n2  Phường Trường Thọ (Quận Thủ Đức cũ)              Số 1        0   \n3                             Phường 4    Đường Trần Phú        0   \n4                        Xã Phước Kiển    Nguyễn Hữu Thọ        0   \n\n   zero_deposit  longitude   latitude  owner  company_ad        apartment_type  \n0         False  106.72764  10.815886  False        True  Căn hộ dịch vụ, mini  \n1         False  106.71600  10.805900  False       False              Chung cư  \n2         False  106.75830  10.826700  False        True              Chung cư  \n3         False  106.67910  10.762500  False        True              Chung cư  \n4         False  106.71276  10.703870  False        True              Chung cư  \n\n[5 rows x 21 columns]",
      "text/html": "<div>\n<style scoped>\n    .dataframe tbody tr th:only-of-type {\n        vertical-align: middle;\n    }\n\n    .dataframe tbody tr th {\n        vertical-align: top;\n    }\n\n    .dataframe thead th {\n        text-align: right;\n    }\n</style>\n<table border=\"1\" class=\"dataframe\">\n  <thead>\n    <tr style=\"text-align: right;\">\n      <th></th>\n      <th>ad_id</th>\n      <th>list_id</th>\n      <th>list_time</th>\n      <th>subject</th>\n      <th>body</th>\n      <th>price</th>\n      <th>price_string</th>\n      <th>size</th>\n      <th>rooms</th>\n      <th>toilets</th>\n      <th>...</th>\n      <th>region_name</th>\n      <th>ward_name</th>\n      <th>street_name</th>\n      <th>deposit</th>\n      <th>zero_deposit</th>\n      <th>longitude</th>\n      <th>latitude</th>\n      <th>owner</th>\n      <th>company_ad</th>\n      <th>apartment_type</th>\n    </tr>\n  </thead>\n  <tbody>\n    <tr>\n      <th>0</th>\n      <td>148983771</td>\n      <td>109051906</td>\n      <td>1702006245000</td>\n      <td>1 PHÒNG NGỦ TÁCH BẾP 45M2, CHO NUÔI PET!</td>\n      <td>CĂN HỘ CAO CẤP 1 PHÒNG NGỦ!__45M2\\n✓BAN CÔNG L...</td>\n      <td>8600000</td>\n      <td>8,6 triệu/tháng</td>\n      <td>45.0</td>\n      <td>1</td>\n      <td>1.0</td>\n      <td>...</td>\n      <td>Tp Hồ Chí Minh</td>\n      <td>Phường Thảo Điền (Quận 2 cũ)</td>\n      <td>Nguyễn Văn Hưởng</td>\n      <td>8600000</td>\n      <td>False</td>\n      <td>106.72764</td>\n      <td>10.815886</td>\n      <td>False</td>\n      <td>True</td>\n      <td>Căn hộ dịch vụ, mini</td>\n    </tr>\n    <tr>\n      <th>1</th>\n      <td>152808559</td>\n      <td>112328722</td>\n      <td>1701933976000</td>\n      <td>Căn hộ chung cư saigonLAND hẻm 69 Nguyễn Gia T...</td>\n      <td>Cần cho thuê căn chung cư Saigon Land tại hẻm ...</td>\n      <td>15000000</td>\n      <td>15 triệu/tháng</td>\n      <td>110.0</td>\n      <td>3</td>\n      <td>2.0</td>\n      <td>...</td>\n      <td>Tp Hồ Chí Minh</td>\n      <td>Phường 25</td>\n      <td>D2</td>\n      <td>0</td>\n      <td>False</td>\n      <td>106.71600</td>\n      <td>10.805900</td>\n      <td>False</td>\n      <td>False</td>\n      <td>Chung cư</td>\n    </tr>\n    <tr>\n      <th>2</th>\n      <td>152043174</td>\n      <td>111673373</td>\n      <td>1702110778000</td>\n      <td>LAVITA CHARM CHO THUÊ CH 2PN 68M2 CÓ NT ĐẸP</td>\n      <td>CH LAVITA CHARM 1PN VIEW ĐẸP NGAY GẦN NGÃ TƯ B...</td>\n      <td>8500000</td>\n      <td>8,5 triệu/tháng</td>\n      <td>68.0</td>\n      <td>2</td>\n      <td>2.0</td>\n      <td>...</td>\n      <td>Tp Hồ Chí Minh</td>\n      <td>Phường Trường Thọ (Quận Thủ Đức cũ)</td>\n      <td>Số 1</td>\n      <td>0</td>\n      <td>False</td>\n      <td>106.75830</td>\n      <td>10.826700</td>\n      <td>False</td>\n      <td>True</td>\n      <td>Chung cư</td>\n    </tr>\n    <tr>\n      <th>3</th>\n      <td>150969082</td>\n      <td>110755872</td>\n      <td>1701743146000</td>\n      <td>CH cửa kính Thoáng Mát - Máy giặt riêng Ngay Đ...</td>\n      <td>CH cửa kính Thoáng Mát - Máy giặt riêng Ngay Đ...</td>\n      <td>7000000</td>\n      <td>7 triệu/tháng</td>\n      <td>35.0</td>\n      <td>1</td>\n      <td>1.0</td>\n      <td>...</td>\n      <td>Tp Hồ Chí Minh</td>\n      <td>Phường 4</td>\n      <td>Đường Trần Phú</td>\n      <td>0</td>\n      <td>False</td>\n      <td>106.67910</td>\n      <td>10.762500</td>\n      <td>False</td>\n      <td>True</td>\n      <td>Chung cư</td>\n    </tr>\n    <tr>\n      <th>4</th>\n      <td>150055631</td>\n      <td>109969444</td>\n      <td>1702115497000</td>\n      <td>Chính chủ Cho thuê căn hộ Saigon South căn 2PN...</td>\n      <td>- Căn hộ 71m², 75m², 76m² - 2PN + 2WC.\\n+ Nội ...</td>\n      <td>13000000</td>\n      <td>13 triệu/tháng</td>\n      <td>75.0</td>\n      <td>2</td>\n      <td>2.0</td>\n      <td>...</td>\n      <td>Tp Hồ Chí Minh</td>\n      <td>Xã Phước Kiển</td>\n      <td>Nguyễn Hữu Thọ</td>\n      <td>0</td>\n      <td>False</td>\n      <td>106.71276</td>\n      <td>10.703870</td>\n      <td>False</td>\n      <td>True</td>\n      <td>Chung cư</td>\n    </tr>\n  </tbody>\n</table>\n<p>5 rows × 21 columns</p>\n</div>"
     },
     "execution_count": 4,
     "metadata": {},
     "output_type": "execute_result"
    }
   ],
   "source": [
    "apartment_df = pd.read_csv(DATA_CSV)\n",
    "apartment_df.head()"
   ],
   "metadata": {
    "collapsed": false,
    "ExecuteTime": {
     "end_time": "2023-12-10T16:21:29.838793Z",
     "start_time": "2023-12-10T16:21:29.493282Z"
    }
   }
  },
  {
   "cell_type": "markdown",
   "source": [
    "### 2.2. Dữ liệu có bao nhiêu dòng và bao nhiêu cột?"
   ],
   "metadata": {
    "collapsed": false
   }
  },
  {
   "cell_type": "code",
   "execution_count": 5,
   "outputs": [
    {
     "data": {
      "text/plain": "(19895, 21)"
     },
     "execution_count": 5,
     "metadata": {},
     "output_type": "execute_result"
    }
   ],
   "source": [
    "apartment_df.shape"
   ],
   "metadata": {
    "collapsed": false,
    "ExecuteTime": {
     "end_time": "2023-12-10T16:21:29.844371Z",
     "start_time": "2023-12-10T16:21:29.839385Z"
    }
   }
  },
  {
   "cell_type": "markdown",
   "source": [
    "Dữ liệu gồm 19996 dòng và 20 cột, đúng như những gì đã thu thập trước đó"
   ],
   "metadata": {
    "collapsed": false
   }
  },
  {
   "cell_type": "markdown",
   "source": [
    "### 2.3. Mỗi dòng có ý nghĩa gì? Có vấn đề các dòng có ý nghĩa khác nhau không?\n",
    "\n",
    "+ Mỗi dòng là thông tin cho thuê của một căn hộ như giá thuê, diện tích, số phòng, số nhà vệ sinh, địa chỉ, ...\n",
    "+ Dựa theo thông tin trên web lúc crawl thì sẽ không có các dòng có ý nghĩa khác nhau"
   ],
   "metadata": {
    "collapsed": false
   }
  },
  {
   "cell_type": "markdown",
   "source": [
    "### 2.4. Mỗi cột có ý nghĩa gì?"
   ],
   "metadata": {
    "collapsed": false
   }
  },
  {
   "cell_type": "markdown",
   "source": [
    "Dưới đây là phần mô tả về các cột:\n",
    "\n",
    "| Column         | Description                                |\n",
    "|----------------|--------------------------------------------|\n",
    "| ad_id          | id của tin (để phân biệt)                  |\n",
    "| list_id        | id trong danh sách ads (dùng để phân biệt) |\n",
    "| list_time      | Thời gian đăng tin                         |\n",
    "| price          | Giá thuê (VND)                             |\n",
    "| price_string   | Giá thuê (triệu / tháng) cho dễ nhìn       |\n",
    "| size           | Diện tích (m2)                             |\n",
    "| rooms          | Số phòng                                   |\n",
    "| toilets        | Số nhà vệ sinh                             |\n",
    "| body           | Mô tả                                      |\n",
    "| street_name    | Đường                                      |\n",
    "| ward_name      | Phường                                     |\n",
    "| area_name      | Quận huyện                                 |\n",
    "| region_name    | Thành phố, tỉnh                            |\n",
    "| zero_deposit   | Có cần tiền cọc không?                     |\n",
    "| deposit        | Tiền cọc                                   |\n",
    "| longitude      | Kinh độ                                    |\n",
    "| latitude       | Vĩ độ                                      |\n",
    "| owner          | Có phải chủ nhà không?                     |\n",
    "| company_ad     | Tin của các nhân hay công ty               |\n",
    "| apartment_type | Kiểu căn hộ / chung cư                     |"
   ],
   "metadata": {
    "collapsed": false
   }
  },
  {
   "cell_type": "markdown",
   "source": [
    "### 2.4. Kiểm tra dữ liệu có bị trùng lặp không?"
   ],
   "metadata": {
    "collapsed": false
   }
  },
  {
   "cell_type": "code",
   "execution_count": 6,
   "outputs": [
    {
     "data": {
      "text/plain": "0"
     },
     "execution_count": 6,
     "metadata": {},
     "output_type": "execute_result"
    }
   ],
   "source": [
    "apartment_df.duplicated().sum()"
   ],
   "metadata": {
    "collapsed": false,
    "ExecuteTime": {
     "end_time": "2023-12-10T16:21:29.939765Z",
     "start_time": "2023-12-10T16:21:29.842002Z"
    }
   }
  },
  {
   "cell_type": "markdown",
   "source": [
    "Dữ liệu thu thập được không bị trùng lặp, dựa vào việc crawl trước đó nên có thể yên tâm"
   ],
   "metadata": {
    "collapsed": false
   }
  },
  {
   "cell_type": "markdown",
   "source": [
    "### 2.5. Mỗi cột hiện đang có kiểu dữ liệu gì? Có cột nào có kiểu dữ liệu chưa phù hợp để có thể xử lý tiếp không?"
   ],
   "metadata": {
    "collapsed": false
   }
  },
  {
   "cell_type": "code",
   "execution_count": 7,
   "outputs": [
    {
     "name": "stdout",
     "output_type": "stream",
     "text": [
      "<class 'pandas.core.frame.DataFrame'>\n",
      "RangeIndex: 19895 entries, 0 to 19894\n",
      "Data columns (total 21 columns):\n",
      " #   Column          Non-Null Count  Dtype  \n",
      "---  ------          --------------  -----  \n",
      " 0   ad_id           19895 non-null  int64  \n",
      " 1   list_id         19895 non-null  int64  \n",
      " 2   list_time       19895 non-null  int64  \n",
      " 3   subject         19895 non-null  object \n",
      " 4   body            19895 non-null  object \n",
      " 5   price           19895 non-null  int64  \n",
      " 6   price_string    19895 non-null  object \n",
      " 7   size            19895 non-null  float64\n",
      " 8   rooms           19895 non-null  int64  \n",
      " 9   toilets         19894 non-null  float64\n",
      " 10  area_name       19895 non-null  object \n",
      " 11  region_name     19895 non-null  object \n",
      " 12  ward_name       19887 non-null  object \n",
      " 13  street_name     19885 non-null  object \n",
      " 14  deposit         19895 non-null  int64  \n",
      " 15  zero_deposit    19895 non-null  bool   \n",
      " 16  longitude       19894 non-null  float64\n",
      " 17  latitude        19894 non-null  float64\n",
      " 18  owner           19895 non-null  bool   \n",
      " 19  company_ad      19895 non-null  bool   \n",
      " 20  apartment_type  19895 non-null  object \n",
      "dtypes: bool(3), float64(4), int64(6), object(8)\n",
      "memory usage: 2.8+ MB\n"
     ]
    }
   ],
   "source": [
    "apartment_df.info()"
   ],
   "metadata": {
    "collapsed": false,
    "ExecuteTime": {
     "end_time": "2023-12-10T16:21:29.964435Z",
     "start_time": "2023-12-10T16:21:29.928985Z"
    }
   }
  },
  {
   "cell_type": "markdown",
   "source": [
    "Nhận thấy một số vấn đè như sau:\n",
    "+ Cột `toilets`, `price` là số nhà vệ sinh nên có kiểu dữ liệu `int64`\n",
    "+ Cột `list_time` là thời gian đăng tin nên có kiểu `datetime`\n",
    "+ Cột `ad_id`, `list_id`, `company_ad`, sẽ không còn cần thiết\n",
    "+ Cột `size`, `price`, `toilets`, `area_name` có bị thiếu nên ta sẽ loại bỏ những dòng thiếu này"
   ],
   "metadata": {
    "collapsed": false
   }
  },
  {
   "cell_type": "code",
   "execution_count": 8,
   "outputs": [],
   "source": [
    "# convert timestamp in milisecond to datetime\n",
    "apartment_df['list_time'] = pd.to_datetime(apartment_df['list_time'], unit='ms')"
   ],
   "metadata": {
    "collapsed": false,
    "ExecuteTime": {
     "end_time": "2023-12-10T16:21:29.965661Z",
     "start_time": "2023-12-10T16:21:29.955960Z"
    }
   }
  },
  {
   "cell_type": "code",
   "execution_count": 9,
   "outputs": [
    {
     "data": {
      "text/plain": "(19878, 18)"
     },
     "execution_count": 9,
     "metadata": {},
     "output_type": "execute_result"
    }
   ],
   "source": [
    "# drop missing value\n",
    "apartment_df = apartment_df.dropna()\n",
    "# drop not used column\n",
    "apartment_df = apartment_df.drop(['ad_id', 'list_id', 'company_ad'], axis=1)\n",
    "apartment_df.shape"
   ],
   "metadata": {
    "collapsed": false,
    "ExecuteTime": {
     "end_time": "2023-12-10T16:21:30.001186Z",
     "start_time": "2023-12-10T16:21:29.962791Z"
    }
   }
  },
  {
   "cell_type": "markdown",
   "source": [
    "Còn lại 19873 dòng"
   ],
   "metadata": {
    "collapsed": false
   }
  },
  {
   "cell_type": "code",
   "execution_count": 10,
   "outputs": [],
   "source": [
    "# convert float64 to int64\n",
    "apartment_df['toilets'] = apartment_df['toilets'].apply(np.int64)\n",
    "apartment_df['price'] = apartment_df['price'].apply(np.int64)"
   ],
   "metadata": {
    "collapsed": false,
    "ExecuteTime": {
     "end_time": "2023-12-10T16:21:30.053662Z",
     "start_time": "2023-12-10T16:21:30.018891Z"
    }
   }
  },
  {
   "cell_type": "code",
   "execution_count": 11,
   "outputs": [
    {
     "name": "stdout",
     "output_type": "stream",
     "text": [
      "<class 'pandas.core.frame.DataFrame'>\n",
      "Int64Index: 19878 entries, 0 to 19894\n",
      "Data columns (total 18 columns):\n",
      " #   Column          Non-Null Count  Dtype         \n",
      "---  ------          --------------  -----         \n",
      " 0   list_time       19878 non-null  datetime64[ns]\n",
      " 1   subject         19878 non-null  object        \n",
      " 2   body            19878 non-null  object        \n",
      " 3   price           19878 non-null  int64         \n",
      " 4   price_string    19878 non-null  object        \n",
      " 5   size            19878 non-null  float64       \n",
      " 6   rooms           19878 non-null  int64         \n",
      " 7   toilets         19878 non-null  int64         \n",
      " 8   area_name       19878 non-null  object        \n",
      " 9   region_name     19878 non-null  object        \n",
      " 10  ward_name       19878 non-null  object        \n",
      " 11  street_name     19878 non-null  object        \n",
      " 12  deposit         19878 non-null  int64         \n",
      " 13  zero_deposit    19878 non-null  bool          \n",
      " 14  longitude       19878 non-null  float64       \n",
      " 15  latitude        19878 non-null  float64       \n",
      " 16  owner           19878 non-null  bool          \n",
      " 17  apartment_type  19878 non-null  object        \n",
      "dtypes: bool(2), datetime64[ns](1), float64(3), int64(4), object(8)\n",
      "memory usage: 2.6+ MB\n"
     ]
    }
   ],
   "source": [
    "apartment_df.info()"
   ],
   "metadata": {
    "collapsed": false,
    "ExecuteTime": {
     "end_time": "2023-12-10T16:21:30.079324Z",
     "start_time": "2023-12-10T16:21:30.067841Z"
    }
   }
  },
  {
   "cell_type": "markdown",
   "source": [
    "Sau khi xử lý, dữ liệu đã khá ổn"
   ],
   "metadata": {
    "collapsed": false
   }
  },
  {
   "cell_type": "markdown",
   "source": [
    "### 2.6. Với mỗi cột có kiểu dữ liệu numeric, các giá trị được phân bố như thế nào?"
   ],
   "metadata": {
    "collapsed": false
   }
  },
  {
   "cell_type": "code",
   "execution_count": 12,
   "outputs": [
    {
     "data": {
      "text/plain": "               price   size  rooms  toilets        deposit\ncount         19,878 19,878 19,878   19,878         19,878\nmean      20,250,362     57      2        1      6,179,840\nstd      626,361,924    511      1        1    147,468,902\nmin          500,000      1      1        1              0\n25%        5,500,000     35      1        1              0\n50%        7,500,000     45      1        1              0\n75%       11,000,000     70      2        2      6,000,000\nmax   73,500,000,000 72,000     11        7 20,000,000,000",
      "text/html": "<div>\n<style scoped>\n    .dataframe tbody tr th:only-of-type {\n        vertical-align: middle;\n    }\n\n    .dataframe tbody tr th {\n        vertical-align: top;\n    }\n\n    .dataframe thead th {\n        text-align: right;\n    }\n</style>\n<table border=\"1\" class=\"dataframe\">\n  <thead>\n    <tr style=\"text-align: right;\">\n      <th></th>\n      <th>price</th>\n      <th>size</th>\n      <th>rooms</th>\n      <th>toilets</th>\n      <th>deposit</th>\n    </tr>\n  </thead>\n  <tbody>\n    <tr>\n      <th>count</th>\n      <td>19,878</td>\n      <td>19,878</td>\n      <td>19,878</td>\n      <td>19,878</td>\n      <td>19,878</td>\n    </tr>\n    <tr>\n      <th>mean</th>\n      <td>20,250,362</td>\n      <td>57</td>\n      <td>2</td>\n      <td>1</td>\n      <td>6,179,840</td>\n    </tr>\n    <tr>\n      <th>std</th>\n      <td>626,361,924</td>\n      <td>511</td>\n      <td>1</td>\n      <td>1</td>\n      <td>147,468,902</td>\n    </tr>\n    <tr>\n      <th>min</th>\n      <td>500,000</td>\n      <td>1</td>\n      <td>1</td>\n      <td>1</td>\n      <td>0</td>\n    </tr>\n    <tr>\n      <th>25%</th>\n      <td>5,500,000</td>\n      <td>35</td>\n      <td>1</td>\n      <td>1</td>\n      <td>0</td>\n    </tr>\n    <tr>\n      <th>50%</th>\n      <td>7,500,000</td>\n      <td>45</td>\n      <td>1</td>\n      <td>1</td>\n      <td>0</td>\n    </tr>\n    <tr>\n      <th>75%</th>\n      <td>11,000,000</td>\n      <td>70</td>\n      <td>2</td>\n      <td>2</td>\n      <td>6,000,000</td>\n    </tr>\n    <tr>\n      <th>max</th>\n      <td>73,500,000,000</td>\n      <td>72,000</td>\n      <td>11</td>\n      <td>7</td>\n      <td>20,000,000,000</td>\n    </tr>\n  </tbody>\n</table>\n</div>"
     },
     "execution_count": 12,
     "metadata": {},
     "output_type": "execute_result"
    }
   ],
   "source": [
    "pd.set_option('display.float_format',  '{:,.0f}'.format)\n",
    "\n",
    "numeric_cols = ['price', 'size', 'rooms', 'toilets', 'deposit']\n",
    "apartment_df[numeric_cols].describe()"
   ],
   "metadata": {
    "collapsed": false,
    "ExecuteTime": {
     "end_time": "2023-12-10T16:21:30.101228Z",
     "start_time": "2023-12-10T16:21:30.079758Z"
    }
   }
  },
  {
   "cell_type": "markdown",
   "source": [
    "+ Nhận ra ngay min và max của `price`, `size`, `deposit` có vấn đề:\n",
    "   + Làm gì có căn hộ nào mà thuê 500k/tháng, diện tích có 2 m2, dự đoán là tin rác\n",
    "   + Làm gì có ai thuê căn hộ nào thuê mà 150000 m2, giá thuê 70 tỷ/tháng, cọc 38 tỷ, dự đoán bán là đất nền nhưng đăng nhầm qua cho thuê chung cư\n",
    "+ Các cột còn lại phân bố bình thường:\n",
    "      + rooms từ 1 -> 11\n",
    "      + toilets từ 1 -> 7\n",
    "+ Vì mục tiêu tìm hiểu giá chung cư là chính, nên ta sẽ loại bỏ đi những ngoại lệ như:\n",
    "    + Giá dưới 500 nghìn đồng, ở TPHCM có phòng căn hộ 500k sao?\n",
    "    + Giá trên 100 triệu đồng, ai đi thuê phòng ở hơn 100 củ\n",
    "    + Diện tích dưới 10 m2, nhỏ thế sao ở được?"
   ],
   "metadata": {
    "collapsed": false
   }
  },
  {
   "cell_type": "code",
   "execution_count": 13,
   "outputs": [
    {
     "data": {
      "text/plain": "(19835, 18)"
     },
     "execution_count": 13,
     "metadata": {},
     "output_type": "execute_result"
    }
   ],
   "source": [
    "index = apartment_df[(apartment_df['price'] < 500000) | (apartment_df['price'] > 100000000) | (apartment_df['size'] < 10)].index\n",
    "apartment_df.drop(index, inplace=True)\n",
    "\n",
    "apartment_df.shape"
   ],
   "metadata": {
    "collapsed": false,
    "ExecuteTime": {
     "end_time": "2023-12-10T16:21:30.130425Z",
     "start_time": "2023-12-10T16:21:30.098312Z"
    }
   }
  },
  {
   "cell_type": "markdown",
   "source": [
    "### 2.7. Với mỗi cột có kiểu dữ liệu categorical, các giá trị được phân bố như thế nào?"
   ],
   "metadata": {
    "collapsed": false
   }
  },
  {
   "cell_type": "markdown",
   "source": [
    "#### Cột **region_name**"
   ],
   "metadata": {
    "collapsed": false
   }
  },
  {
   "cell_type": "code",
   "execution_count": 14,
   "outputs": [
    {
     "data": {
      "text/plain": "Tp Hồ Chí Minh    19835\nName: region_name, dtype: int64"
     },
     "execution_count": 14,
     "metadata": {},
     "output_type": "execute_result"
    }
   ],
   "source": [
    "apartment_df['region_name'].value_counts()"
   ],
   "metadata": {
    "collapsed": false,
    "ExecuteTime": {
     "end_time": "2023-12-10T16:21:30.131352Z",
     "start_time": "2023-12-10T16:21:30.112008Z"
    }
   }
  },
  {
   "cell_type": "markdown",
   "source": [
    "Do ta chỉ xem xét ở TP HCM nên cột này chỉ có duy nhất một giá trị, loại bỏ cột này luoon"
   ],
   "metadata": {
    "collapsed": false
   }
  },
  {
   "cell_type": "code",
   "execution_count": 15,
   "outputs": [],
   "source": [
    "apartment_df = apartment_df.drop(['region_name'], axis=1)"
   ],
   "metadata": {
    "collapsed": false,
    "ExecuteTime": {
     "end_time": "2023-12-10T16:21:30.144189Z",
     "start_time": "2023-12-10T16:21:30.118528Z"
    }
   }
  },
  {
   "cell_type": "markdown",
   "source": [
    "#### Cột **area_name**"
   ],
   "metadata": {
    "collapsed": false
   }
  },
  {
   "cell_type": "code",
   "execution_count": 16,
   "outputs": [
    {
     "data": {
      "text/plain": "<Axes: title={'center': 'Distribution of area_name'}>"
     },
     "execution_count": 16,
     "metadata": {},
     "output_type": "execute_result"
    },
    {
     "data": {
      "text/plain": "<Figure size 640x480 with 1 Axes>",
      "image/png": "[encoded data removed]"
     },
     "metadata": {},
     "output_type": "display_data"
    }
   ],
   "source": [
    "area = apartment_df['area_name'].value_counts()\n",
    "area.plot.bar(title='Distribution of area_name')"
   ],
   "metadata": {
    "collapsed": false,
    "ExecuteTime": {
     "end_time": "2023-12-10T16:21:30.439957Z",
     "start_time": "2023-12-10T16:21:30.120942Z"
    }
   }
  },
  {
   "cell_type": "markdown",
   "source": [
    "Trên đây là phân bố căn hộ cho thuê theo quận sắp xếp theo số lượn giảm dần:\n",
    "+ Nhiều nhất là quận 7 với hơn 3 nghìn tin cho thuê, tiếp theo là thành phố Đức (quận Thủ Đức + quận 9 + quận 2) diện tích rất lớn nhưng vẫn ít phòng cho thuê hơn quận 7\n",
    "+ Huyện Hóc Môn xếp bét bảng với chỉ 4 tin, cũng hợp lý vì chả ai qua thuê bên đấy làm gì cả"
   ],
   "metadata": {
    "collapsed": false
   }
  },
  {
   "cell_type": "markdown",
   "source": [
    "#### Cột **owner**"
   ],
   "metadata": {
    "collapsed": false
   }
  },
  {
   "cell_type": "code",
   "execution_count": 17,
   "outputs": [
    {
     "data": {
      "text/plain": "False    19835\nName: owner, dtype: int64"
     },
     "execution_count": 17,
     "metadata": {},
     "output_type": "execute_result"
    }
   ],
   "source": [
    "apartment_df['owner'].value_counts()"
   ],
   "metadata": {
    "collapsed": false,
    "ExecuteTime": {
     "end_time": "2023-12-10T16:21:30.445361Z",
     "start_time": "2023-12-10T16:21:30.442081Z"
    }
   }
  },
  {
   "cell_type": "markdown",
   "source": [
    "Tất cả đề là False, có nghĩa là không có chủ nhà nào đăng tin cho thuê, tất cả đều là môi giới, nếu thuê thì sẽ khó thương lượng giảm giá với chủ nhà đuợc vì họ thường phải trả cho môi giới một khoản phí. Ta cũng loại bỏ cột này luôn."
   ],
   "metadata": {
    "collapsed": false
   }
  },
  {
   "cell_type": "code",
   "execution_count": 18,
   "outputs": [],
   "source": [
    "apartment_df = apartment_df.drop(['owner'], axis=1)"
   ],
   "metadata": {
    "collapsed": false,
    "ExecuteTime": {
     "end_time": "2023-12-10T16:21:30.454278Z",
     "start_time": "2023-12-10T16:21:30.447203Z"
    }
   }
  },
  {
   "cell_type": "markdown",
   "source": [
    "#### Cột **apartment_type**"
   ],
   "metadata": {
    "collapsed": false
   }
  },
  {
   "cell_type": "code",
   "execution_count": 19,
   "outputs": [
    {
     "name": "stdout",
     "output_type": "stream",
     "text": [
      "(11099, 16)\n"
     ]
    },
    {
     "data": {
      "text/plain": "<Axes: title={'center': 'Number of apartments per type'}>"
     },
     "execution_count": 19,
     "metadata": {},
     "output_type": "execute_result"
    },
    {
     "data": {
      "text/plain": "<Figure size 640x480 with 1 Axes>",
      "image/png": "[encoded data removed]"
     },
     "metadata": {},
     "output_type": "display_data"
    }
   ],
   "source": [
    "apartment_df = apartment_df[(apartment_df['apartment_type'] == 'Chung cư') | (apartment_df['apartment_type'] == 'Căn hộ dịch vụ')]\n",
    "\n",
    "print(apartment_df.shape)\n",
    "\n",
    "type = apartment_df['apartment_type'].value_counts()\n",
    "\n",
    "type.plot.bar(title=\"Number of apartments per type\")"
   ],
   "metadata": {
    "collapsed": false,
    "ExecuteTime": {
     "end_time": "2023-12-10T16:21:30.590636Z",
     "start_time": "2023-12-10T16:21:30.451653Z"
    }
   }
  },
  {
   "cell_type": "markdown",
   "source": [
    "+ Sau khi lọc, chỉ còn 18605 dòng\n",
    "+ Đa số là căn hộ chung cư, gần gấp đôi số căn hộ dịch vụ"
   ],
   "metadata": {
    "collapsed": false
   }
  },
  {
   "cell_type": "markdown",
   "source": [
    "#### Cột **zero_deposit**"
   ],
   "metadata": {
    "collapsed": false
   }
  },
  {
   "cell_type": "code",
   "execution_count": 20,
   "outputs": [
    {
     "data": {
      "text/plain": "False    11099\nName: zero_deposit, dtype: int64"
     },
     "execution_count": 20,
     "metadata": {},
     "output_type": "execute_result"
    }
   ],
   "source": [
    "apartment_df['zero_deposit'].value_counts()"
   ],
   "metadata": {
    "collapsed": false,
    "ExecuteTime": {
     "end_time": "2023-12-10T16:21:30.594237Z",
     "start_time": "2023-12-10T16:21:30.588160Z"
    }
   }
  },
  {
   "cell_type": "markdown",
   "source": [
    "Gần như chủ nhà sẽ yêu cầu tiền cọc, chủ có 4 tin không cần cọc nhưng mà khả năng cũng là do quên điền lúc tạo tin. Ta sẽ bỏ qua cột này luôn!"
   ],
   "metadata": {
    "collapsed": false
   }
  },
  {
   "cell_type": "code",
   "execution_count": 21,
   "outputs": [],
   "source": [
    "apartment_df = apartment_df.drop(['zero_deposit'], axis=1)"
   ],
   "metadata": {
    "collapsed": false,
    "ExecuteTime": {
     "end_time": "2023-12-10T16:21:30.601515Z",
     "start_time": "2023-12-10T16:21:30.594743Z"
    }
   }
  },
  {
   "cell_type": "markdown",
   "source": [
    "#### Cột **list_time**"
   ],
   "metadata": {
    "collapsed": false
   }
  },
  {
   "cell_type": "code",
   "execution_count": 22,
   "outputs": [
    {
     "data": {
      "text/plain": "2023-12-07    1442\n2023-12-09    1426\n2023-12-08    1419\n2023-12-05    1311\n2023-12-06    1204\n2023-12-10    1172\n2023-12-04    1010\n2023-12-01     650\n2023-12-02     554\n2023-11-30     460\n2023-12-03     451\nName: list_time, dtype: int64"
     },
     "execution_count": 22,
     "metadata": {},
     "output_type": "execute_result"
    }
   ],
   "source": [
    "pd.to_datetime(apartment_df['list_time']).dt.date.value_counts()"
   ],
   "metadata": {
    "collapsed": false,
    "ExecuteTime": {
     "end_time": "2023-12-10T16:21:30.665274Z",
     "start_time": "2023-12-10T16:21:30.601445Z"
    }
   }
  },
  {
   "cell_type": "markdown",
   "source": [
    "Các tin được đăng từ 18/11 tới 3/12, trong khoảng 2 tuần, nên có thể coi dữ liệu là mới, tính ở thời điểm phân tích là ngày 3/12. Ta cũng có thể bỏ cột này luôn vì nó không có quá nhiều ý nghĩa khi gần nhau"
   ],
   "metadata": {
    "collapsed": false
   }
  },
  {
   "cell_type": "code",
   "execution_count": 23,
   "outputs": [],
   "source": [
    "apartment_df = apartment_df.drop(['list_time'], axis=1)"
   ],
   "metadata": {
    "collapsed": false,
    "ExecuteTime": {
     "end_time": "2023-12-10T16:21:30.670910Z",
     "start_time": "2023-12-10T16:21:30.666714Z"
    }
   }
  },
  {
   "cell_type": "markdown",
   "source": [
    "## 3. Đặt ra các câu hỏi?"
   ],
   "metadata": {
    "collapsed": false
   }
  },
  {
   "cell_type": "markdown",
   "source": [
    "### Câu 1. Giá thuê căn hộ ở các quận chênh lệch như thế nào?\n",
    "\n",
    "**Ý nghĩa**: Có cái nhìn tổng quát về giá thuê nhà tại các quận, giá theo diện tích, theo số phòng, theo loại hình để có thể xem xét và đưa ra quyết định nên thuê ở đâu, các đặc điểm của căn hộ ra sao.\n",
    "\n",
    "### Câu 2. Các yếu tố ảnh hưởng tới giá thuê nhà?\n",
    "\n",
    "**Ý nghĩa**: Để hiểu thêm về sự tương quan giữa giá thuê với các yếu tố khác như diện tích, số phòng, số nhà vệ sinh, vị trí, ...\n",
    "\n",
    "### Câu 3. Tìm một căn hộ phù hợp để thuê theo một số tiêu chí?\n",
    "\n",
    "**Ý nghĩa**: thực tế chỉ là để tham khảo chọn phòng để thuê"
   ],
   "metadata": {
    "collapsed": false
   }
  },
  {
   "cell_type": "markdown",
   "source": [
    "## 4. Phân tích dữ liệu và trả lời từng câu hỏi"
   ],
   "metadata": {
    "collapsed": false
   }
  },
  {
   "cell_type": "markdown",
   "source": [
    "### Câu 1: Giá thuê căn hộ ở các quận chênh lệch như thế nào?"
   ],
   "metadata": {
    "collapsed": false
   }
  },
  {
   "cell_type": "markdown",
   "source": [
    "Ta sẽ tổng hợp lại dữ liệu theo các quận, rồi tìm ra min-max và avg price theo số phòng, min-max theo size"
   ],
   "metadata": {
    "collapsed": false
   }
  },
  {
   "cell_type": "code",
   "execution_count": 24,
   "outputs": [
    {
     "name": "stdout",
     "output_type": "stream",
     "text": [
      "Mean, min, and max price grouped by area_name\n"
     ]
    },
    {
     "data": {
      "text/plain": "                     price                             size       \n                       min        max       mean count  min    max\narea_name                                                         \nHuyện Bình Chánh   1500000   19000000  7,173,067   750   25    306\nHuyện Hóc Môn      4500000    5500000  5,166,667     3   53     70\nHuyện Nhà Bè       3600000   25000000 11,950,000   216   13    330\nQuận 1              900000  100000000 14,100,567   463   17 72,000\nQuận 10            3300000   35000000 14,089,522   487   22    135\nQuận 11            1675000   19000000  8,645,692    78   20    116\nQuận 12            3000000   27500000  7,212,325   357   30    130\nQuận 3             3000000   33000000 10,001,256   317   15    200\nQuận 4              900000   45000000 16,733,148   359   26    220\nQuận 5             4000000   30000000 11,852,147   163   25    132\nQuận 6             3300000   20000000  9,073,326   204   25    130\nQuận 7              650000   82000000 11,600,145  1700   15    257\nQuận 8             2900000   27000000  8,750,613   569   10    162\nQuận Bình Thạnh     900000   53500000 12,207,703   910   15    188\nQuận Bình Tân      3200000   14000000  7,105,945   217   30    160\nQuận Gò Vấp        2900000   18000000  8,024,953   212   18    113\nQuận Phú Nhuận     4000000   32000000 11,259,725   473   20    138\nQuận Tân Bình      2200000   25700000  9,473,404   658   20    240\nQuận Tân Phú       1200000   30000000 10,976,348   586   12    200\nThành phố Thủ Đức   500000   85000000 13,425,690  2377   15  1,009",
      "text/html": "<div>\n<style scoped>\n    .dataframe tbody tr th:only-of-type {\n        vertical-align: middle;\n    }\n\n    .dataframe tbody tr th {\n        vertical-align: top;\n    }\n\n    .dataframe thead tr th {\n        text-align: left;\n    }\n\n    .dataframe thead tr:last-of-type th {\n        text-align: right;\n    }\n</style>\n<table border=\"1\" class=\"dataframe\">\n  <thead>\n    <tr>\n      <th></th>\n      <th colspan=\"4\" halign=\"left\">price</th>\n      <th colspan=\"2\" halign=\"left\">size</th>\n    </tr>\n    <tr>\n      <th></th>\n      <th>min</th>\n      <th>max</th>\n      <th>mean</th>\n      <th>count</th>\n      <th>min</th>\n      <th>max</th>\n    </tr>\n    <tr>\n      <th>area_name</th>\n      <th></th>\n      <th></th>\n      <th></th>\n      <th></th>\n      <th></th>\n      <th></th>\n    </tr>\n  </thead>\n  <tbody>\n    <tr>\n      <th>Huyện Bình Chánh</th>\n      <td>1500000</td>\n      <td>19000000</td>\n      <td>7,173,067</td>\n      <td>750</td>\n      <td>25</td>\n      <td>306</td>\n    </tr>\n    <tr>\n      <th>Huyện Hóc Môn</th>\n      <td>4500000</td>\n      <td>5500000</td>\n      <td>5,166,667</td>\n      <td>3</td>\n      <td>53</td>\n      <td>70</td>\n    </tr>\n    <tr>\n      <th>Huyện Nhà Bè</th>\n      <td>3600000</td>\n      <td>25000000</td>\n      <td>11,950,000</td>\n      <td>216</td>\n      <td>13</td>\n      <td>330</td>\n    </tr>\n    <tr>\n      <th>Quận 1</th>\n      <td>900000</td>\n      <td>100000000</td>\n      <td>14,100,567</td>\n      <td>463</td>\n      <td>17</td>\n      <td>72,000</td>\n    </tr>\n    <tr>\n      <th>Quận 10</th>\n      <td>3300000</td>\n      <td>35000000</td>\n      <td>14,089,522</td>\n      <td>487</td>\n      <td>22</td>\n      <td>135</td>\n    </tr>\n    <tr>\n      <th>Quận 11</th>\n      <td>1675000</td>\n      <td>19000000</td>\n      <td>8,645,692</td>\n      <td>78</td>\n      <td>20</td>\n      <td>116</td>\n    </tr>\n    <tr>\n      <th>Quận 12</th>\n      <td>3000000</td>\n      <td>27500000</td>\n      <td>7,212,325</td>\n      <td>357</td>\n      <td>30</td>\n      <td>130</td>\n    </tr>\n    <tr>\n      <th>Quận 3</th>\n      <td>3000000</td>\n      <td>33000000</td>\n      <td>10,001,256</td>\n      <td>317</td>\n      <td>15</td>\n      <td>200</td>\n    </tr>\n    <tr>\n      <th>Quận 4</th>\n      <td>900000</td>\n      <td>45000000</td>\n      <td>16,733,148</td>\n      <td>359</td>\n      <td>26</td>\n      <td>220</td>\n    </tr>\n    <tr>\n      <th>Quận 5</th>\n      <td>4000000</td>\n      <td>30000000</td>\n      <td>11,852,147</td>\n      <td>163</td>\n      <td>25</td>\n      <td>132</td>\n    </tr>\n    <tr>\n      <th>Quận 6</th>\n      <td>3300000</td>\n      <td>20000000</td>\n      <td>9,073,326</td>\n      <td>204</td>\n      <td>25</td>\n      <td>130</td>\n    </tr>\n    <tr>\n      <th>Quận 7</th>\n      <td>650000</td>\n      <td>82000000</td>\n      <td>11,600,145</td>\n      <td>1700</td>\n      <td>15</td>\n      <td>257</td>\n    </tr>\n    <tr>\n      <th>Quận 8</th>\n      <td>2900000</td>\n      <td>27000000</td>\n      <td>8,750,613</td>\n      <td>569</td>\n      <td>10</td>\n      <td>162</td>\n    </tr>\n    <tr>\n      <th>Quận Bình Thạnh</th>\n      <td>900000</td>\n      <td>53500000</td>\n      <td>12,207,703</td>\n      <td>910</td>\n      <td>15</td>\n      <td>188</td>\n    </tr>\n    <tr>\n      <th>Quận Bình Tân</th>\n      <td>3200000</td>\n      <td>14000000</td>\n      <td>7,105,945</td>\n      <td>217</td>\n      <td>30</td>\n      <td>160</td>\n    </tr>\n    <tr>\n      <th>Quận Gò Vấp</th>\n      <td>2900000</td>\n      <td>18000000</td>\n      <td>8,024,953</td>\n      <td>212</td>\n      <td>18</td>\n      <td>113</td>\n    </tr>\n    <tr>\n      <th>Quận Phú Nhuận</th>\n      <td>4000000</td>\n      <td>32000000</td>\n      <td>11,259,725</td>\n      <td>473</td>\n      <td>20</td>\n      <td>138</td>\n    </tr>\n    <tr>\n      <th>Quận Tân Bình</th>\n      <td>2200000</td>\n      <td>25700000</td>\n      <td>9,473,404</td>\n      <td>658</td>\n      <td>20</td>\n      <td>240</td>\n    </tr>\n    <tr>\n      <th>Quận Tân Phú</th>\n      <td>1200000</td>\n      <td>30000000</td>\n      <td>10,976,348</td>\n      <td>586</td>\n      <td>12</td>\n      <td>200</td>\n    </tr>\n    <tr>\n      <th>Thành phố Thủ Đức</th>\n      <td>500000</td>\n      <td>85000000</td>\n      <td>13,425,690</td>\n      <td>2377</td>\n      <td>15</td>\n      <td>1,009</td>\n    </tr>\n  </tbody>\n</table>\n</div>"
     },
     "execution_count": 24,
     "metadata": {},
     "output_type": "execute_result"
    }
   ],
   "source": [
    "pd.set_option('display.float_format',  '{:,.0f}'.format)\n",
    "\n",
    "res = apartment_df.groupby(['area_name']).agg({ 'price': ['min', 'max', 'mean', 'count'], 'size': ['min', 'max'] })\n",
    "print('Mean, min, and max price grouped by area_name')\n",
    "res"
   ],
   "metadata": {
    "collapsed": false,
    "ExecuteTime": {
     "end_time": "2023-12-10T16:21:30.694849Z",
     "start_time": "2023-12-10T16:21:30.672152Z"
    }
   }
  },
  {
   "cell_type": "markdown",
   "source": [
    "Ta thấy giá thuê"
   ],
   "metadata": {
    "collapsed": false
   }
  },
  {
   "cell_type": "markdown",
   "source": [],
   "metadata": {
    "collapsed": false
   }
  },
  {
   "cell_type": "markdown",
   "source": [
    "## 5. Tổng hợp lại quá trình thực hiện đồ án"
   ],
   "metadata": {
    "collapsed": false
   }
  }
 ],
 "metadata": {
  "kernelspec": {
   "display_name": "Python 3",
   "language": "python",
   "name": "python3"
  },
  "language_info": {
   "codemirror_mode": {
    "name": "ipython",
    "version": 2
   },
   "file_extension": ".py",
   "mimetype": "text/x-python",
   "name": "python",
   "nbconvert_exporter": "python",
   "pygments_lexer": "ipython2",
   "version": "2.7.6"
  }
 },
 "nbformat": 4,
 "nbformat_minor": 0
}
